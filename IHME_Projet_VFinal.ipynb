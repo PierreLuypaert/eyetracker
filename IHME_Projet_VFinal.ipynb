{
 "cells": [
  {
   "cell_type": "code",
   "execution_count": 1,
   "metadata": {
    "id": "dHlmKl90YUf-"
   },
   "outputs": [],
   "source": [
    "import numpy as np\n",
    "from numpy.random import permutation\n",
    "import time\n",
    "import pandas as pd\n",
    "import matplotlib.pyplot as plt\n",
    "fw, fh = plt.rcParams[\"figure.figsize\"]\n",
    "from sklearn.datasets import fetch_openml\n",
    "from sklearn.decomposition import PCA\n",
    "from sklearn.discriminant_analysis import LinearDiscriminantAnalysis\n",
    "from sklearn.metrics import silhouette_score, calinski_harabasz_score\n",
    "import sklearn.model_selection\n"
   ]
  },
  {
   "cell_type": "markdown",
   "metadata": {
    "id": "5wsM9JB5ZHzN"
   },
   "source": [
    "# Etape 0 : Récupérer les données"
   ]
  },
  {
   "cell_type": "code",
   "execution_count": 2,
   "metadata": {
    "id": "0i_UpFigx1-b"
   },
   "outputs": [],
   "source": [
    "path = \"eyes_detection_1/\""
   ]
  },
  {
   "cell_type": "markdown",
   "metadata": {
    "id": "p-8mZh4d7tDN"
   },
   "source": [
    "Nombre d'images"
   ]
  },
  {
   "cell_type": "code",
   "execution_count": 3,
   "metadata": {
    "id": "OqsTm_6H7uER"
   },
   "outputs": [],
   "source": [
    "n = 88"
   ]
  },
  {
   "cell_type": "markdown",
   "metadata": {
    "id": "OPs_ETtFzYW0"
   },
   "source": [
    "Lecture des fichiers textes"
   ]
  },
  {
   "cell_type": "code",
   "execution_count": 4,
   "metadata": {
    "id": "HALSq-cWyOrS"
   },
   "outputs": [],
   "source": [
    "array_files = []\n",
    "for i in range(1,n+1):\n",
    "  file_path = path + \"pixels_faces_\"+str(i)+\".txt\"\n",
    "  file_tmp = open(file_path, \"r\")\n",
    "  array_files.append(file_tmp.read())"
   ]
  },
  {
   "cell_type": "markdown",
   "metadata": {
    "id": "Md4IfYGa0CpT"
   },
   "source": [
    "Vérification qu'on a lu tous les fichiers"
   ]
  },
  {
   "cell_type": "code",
   "execution_count": 5,
   "metadata": {
    "colab": {
     "base_uri": "https://localhost:8080/"
    },
    "id": "hZ4STlyo0xyE",
    "outputId": "6c928648-c547-4f23-dbdb-60d1860e1787"
   },
   "outputs": [
    {
     "name": "stdout",
     "output_type": "stream",
     "text": [
      "(88,)\n",
      "Ok\n"
     ]
    }
   ],
   "source": [
    "print(np.shape(array_files))\n",
    "\n",
    "if np.shape(array_files)[0] == n:\n",
    "  print(\"Ok\")\n",
    "else:\n",
    "  print(\"Le nombre de labels n'est pas le bon.\")"
   ]
  },
  {
   "cell_type": "markdown",
   "metadata": {
    "id": "irPLC2Zj5yxD"
   },
   "source": [
    "### Extraction du label"
   ]
  },
  {
   "cell_type": "markdown",
   "metadata": {
    "id": "CdqwdzqFtlwA"
   },
   "source": [
    "Le label doit être transformé en tuple de string pour qu'on puisse ensuite créer les sets d'apprentissages et de tests. On doit avoir à la fin y qui est une liste de tuple mais de dimensions 1 pour le training et le test set."
   ]
  },
  {
   "cell_type": "code",
   "execution_count": 6,
   "metadata": {
    "id": "oIq0F6X1tJ54"
   },
   "outputs": [],
   "source": [
    "from ast import literal_eval"
   ]
  },
  {
   "cell_type": "code",
   "execution_count": 7,
   "metadata": {
    "id": "LCinyUs8wWw3"
   },
   "outputs": [],
   "source": [
    "file_path = path + \"points_increment_1.txt\"\n",
    "file_tmp = open(file_path, \"r\")\n",
    "tmp = (literal_eval(file_tmp.read()))"
   ]
  },
  {
   "cell_type": "code",
   "execution_count": 8,
   "metadata": {
    "id": "7XF-v4EG5_b1"
   },
   "outputs": [],
   "source": [
    "array_files_labels = []\n",
    "for i in range(1,n+1):\n",
    "  file_path = path + \"points_increment_\"+str(i)+\".txt\"\n",
    "  file_tmp = open(file_path, \"r\")\n",
    "  array_files_labels.append(list(literal_eval(file_tmp.read())))"
   ]
  },
  {
   "cell_type": "markdown",
   "metadata": {
    "id": "wrn73Yih7GKg"
   },
   "source": [
    "Vérification qu'on a bien tout les labels"
   ]
  },
  {
   "cell_type": "code",
   "execution_count": 9,
   "metadata": {
    "colab": {
     "base_uri": "https://localhost:8080/"
    },
    "id": "VwzytObL7IEG",
    "outputId": "e03ddf55-4206-4461-e956-af406a8a6bc8"
   },
   "outputs": [
    {
     "name": "stdout",
     "output_type": "stream",
     "text": [
      "(88, 2)\n",
      "Ok\n"
     ]
    }
   ],
   "source": [
    "print(np.shape(array_files_labels))\n",
    "\n",
    "if np.shape(array_files_labels)[0] == n:\n",
    "  print(\"Ok\")\n",
    "else:\n",
    "  print(\"Le nombre de labels n'est pas le bon.\")"
   ]
  },
  {
   "cell_type": "markdown",
   "metadata": {
    "id": "NZ_YAMYI8B73"
   },
   "source": [
    "On a le bon nombre d'image et de labels, les données d'entrée sont correctes."
   ]
  },
  {
   "cell_type": "markdown",
   "metadata": {
    "id": "tYdRl67vYcGL"
   },
   "source": [
    "# Etape 2 : Le modèle d'apprentissage"
   ]
  },
  {
   "cell_type": "markdown",
   "metadata": {
    "id": "3O_jvEX9eedT"
   },
   "source": [
    "On a un problème de régression car il doit prédire parmi un nombre suffisament grand de classes pour qu'on considère qu'il est infini."
   ]
  },
  {
   "cell_type": "markdown",
   "metadata": {
    "id": "zjpvHY-lnIhc"
   },
   "source": [
    "On va utiliser du deep learning pour extraire les caractéristiques et au lieu d'avoir la couche de décision, on remplace cette couche par notre modèle en machine learning de régression."
   ]
  },
  {
   "cell_type": "markdown",
   "metadata": {
    "id": "2tPqezR60RV_"
   },
   "source": [
    "Import des biblio"
   ]
  },
  {
   "cell_type": "code",
   "execution_count": 10,
   "metadata": {
    "id": "1sThEtMDsLUU"
   },
   "outputs": [
    {
     "name": "stderr",
     "output_type": "stream",
     "text": [
      "2024-01-14 19:49:33.890496: I tensorflow/core/util/port.cc:110] oneDNN custom operations are on. You may see slightly different numerical results due to floating-point round-off errors from different computation orders. To turn them off, set the environment variable `TF_ENABLE_ONEDNN_OPTS=0`.\n",
      "2024-01-14 19:49:33.892051: I tensorflow/tsl/cuda/cudart_stub.cc:28] Could not find cuda drivers on your machine, GPU will not be used.\n",
      "2024-01-14 19:49:33.916980: I tensorflow/tsl/cuda/cudart_stub.cc:28] Could not find cuda drivers on your machine, GPU will not be used.\n",
      "2024-01-14 19:49:33.917287: I tensorflow/core/platform/cpu_feature_guard.cc:182] This TensorFlow binary is optimized to use available CPU instructions in performance-critical operations.\n",
      "To enable the following instructions: AVX2 AVX512F AVX512_VNNI FMA, in other operations, rebuild TensorFlow with the appropriate compiler flags.\n",
      "2024-01-14 19:49:34.392448: W tensorflow/compiler/tf2tensorrt/utils/py_utils.cc:38] TF-TRT Warning: Could not find TensorRT\n"
     ]
    }
   ],
   "source": [
    "from tensorflow.keras.applications.vgg16 import VGG16\n",
    "from tensorflow.keras.preprocessing import image\n",
    "from tensorflow.keras.applications.vgg16 import preprocess_input\n",
    "import numpy as np"
   ]
  },
  {
   "cell_type": "markdown",
   "metadata": {
    "id": "upGDONI60Sw0"
   },
   "source": [
    "Création du modèle VGG16 déjà pré entrainé sur un problème de classification (à voir pour trouver un modèle de régression ?)"
   ]
  },
  {
   "cell_type": "code",
   "execution_count": 11,
   "metadata": {
    "id": "oGiAbrYDzGz8"
   },
   "outputs": [],
   "source": [
    "model = VGG16(weights='imagenet', include_top=False)"
   ]
  },
  {
   "cell_type": "markdown",
   "metadata": {
    "id": "DuG0wGwd0ilE"
   },
   "source": [
    "Extraction des features (1min)\n",
    "\n",
    "https://keras.io/api/applications/#extract-features-with-vgg16"
   ]
  },
  {
   "cell_type": "code",
   "execution_count": 12,
   "metadata": {
    "colab": {
     "base_uri": "https://localhost:8080/"
    },
    "id": "jY544DzJ2b6l",
    "outputId": "7a86c700-ef5e-4234-c905-cfb15c35d159"
   },
   "outputs": [
    {
     "name": "stdout",
     "output_type": "stream",
     "text": [
      "1/1 [==============================] - 0s 266ms/step\n",
      "1/1 [==============================] - 0s 182ms/step\n",
      "1/1 [==============================] - 0s 165ms/step\n",
      "1/1 [==============================] - 0s 167ms/step\n",
      "1/1 [==============================] - 0s 171ms/step\n",
      "1/1 [==============================] - 0s 170ms/step\n",
      "1/1 [==============================] - 0s 196ms/step\n",
      "1/1 [==============================] - 0s 193ms/step\n",
      "1/1 [==============================] - 0s 197ms/step\n",
      "1/1 [==============================] - 0s 198ms/step\n",
      "1/1 [==============================] - 0s 185ms/step\n",
      "1/1 [==============================] - 0s 199ms/step\n",
      "1/1 [==============================] - 0s 184ms/step\n",
      "1/1 [==============================] - 0s 180ms/step\n",
      "1/1 [==============================] - 0s 202ms/step\n",
      "1/1 [==============================] - 0s 179ms/step\n",
      "1/1 [==============================] - 0s 199ms/step\n",
      "1/1 [==============================] - 0s 210ms/step\n",
      "1/1 [==============================] - 0s 218ms/step\n",
      "1/1 [==============================] - 0s 195ms/step\n",
      "1/1 [==============================] - 0s 207ms/step\n",
      "1/1 [==============================] - 0s 202ms/step\n",
      "1/1 [==============================] - 0s 170ms/step\n",
      "1/1 [==============================] - 0s 185ms/step\n",
      "1/1 [==============================] - 0s 223ms/step\n",
      "1/1 [==============================] - 0s 182ms/step\n",
      "1/1 [==============================] - 0s 193ms/step\n",
      "1/1 [==============================] - 0s 206ms/step\n",
      "1/1 [==============================] - 0s 206ms/step\n",
      "1/1 [==============================] - 0s 181ms/step\n",
      "1/1 [==============================] - 0s 195ms/step\n",
      "1/1 [==============================] - 0s 182ms/step\n",
      "1/1 [==============================] - 0s 184ms/step\n",
      "1/1 [==============================] - 0s 192ms/step\n",
      "1/1 [==============================] - 0s 187ms/step\n",
      "1/1 [==============================] - 0s 187ms/step\n",
      "1/1 [==============================] - 0s 194ms/step\n",
      "1/1 [==============================] - 0s 210ms/step\n",
      "1/1 [==============================] - 0s 189ms/step\n",
      "1/1 [==============================] - 0s 209ms/step\n",
      "1/1 [==============================] - 0s 183ms/step\n",
      "1/1 [==============================] - 0s 200ms/step\n",
      "1/1 [==============================] - 0s 220ms/step\n",
      "1/1 [==============================] - 0s 195ms/step\n",
      "1/1 [==============================] - 0s 192ms/step\n",
      "1/1 [==============================] - 0s 197ms/step\n",
      "1/1 [==============================] - 0s 206ms/step\n",
      "1/1 [==============================] - 0s 221ms/step\n",
      "1/1 [==============================] - 0s 188ms/step\n",
      "1/1 [==============================] - 0s 209ms/step\n",
      "1/1 [==============================] - 0s 187ms/step\n",
      "1/1 [==============================] - 0s 199ms/step\n",
      "1/1 [==============================] - 0s 197ms/step\n",
      "1/1 [==============================] - 0s 176ms/step\n",
      "1/1 [==============================] - 0s 191ms/step\n",
      "1/1 [==============================] - 0s 193ms/step\n",
      "1/1 [==============================] - 0s 183ms/step\n",
      "1/1 [==============================] - 0s 197ms/step\n",
      "1/1 [==============================] - 0s 185ms/step\n",
      "1/1 [==============================] - 0s 194ms/step\n",
      "1/1 [==============================] - 0s 190ms/step\n",
      "1/1 [==============================] - 0s 189ms/step\n",
      "1/1 [==============================] - 0s 205ms/step\n",
      "1/1 [==============================] - 0s 194ms/step\n",
      "1/1 [==============================] - 0s 167ms/step\n",
      "1/1 [==============================] - 0s 169ms/step\n",
      "1/1 [==============================] - 0s 194ms/step\n",
      "1/1 [==============================] - 0s 187ms/step\n",
      "1/1 [==============================] - 0s 211ms/step\n",
      "1/1 [==============================] - 0s 220ms/step\n",
      "1/1 [==============================] - 0s 198ms/step\n",
      "1/1 [==============================] - 0s 191ms/step\n",
      "1/1 [==============================] - 0s 195ms/step\n",
      "1/1 [==============================] - 0s 192ms/step\n",
      "1/1 [==============================] - 0s 185ms/step\n",
      "1/1 [==============================] - 0s 188ms/step\n",
      "1/1 [==============================] - 0s 187ms/step\n",
      "1/1 [==============================] - 0s 185ms/step\n",
      "1/1 [==============================] - 0s 170ms/step\n",
      "1/1 [==============================] - 0s 180ms/step\n",
      "1/1 [==============================] - 0s 174ms/step\n",
      "1/1 [==============================] - 0s 186ms/step\n",
      "1/1 [==============================] - 0s 170ms/step\n",
      "1/1 [==============================] - 0s 169ms/step\n",
      "1/1 [==============================] - 0s 193ms/step\n",
      "1/1 [==============================] - 0s 160ms/step\n",
      "1/1 [==============================] - 0s 184ms/step\n",
      "1/1 [==============================] - 0s 187ms/step\n"
     ]
    }
   ],
   "source": [
    "array_features = []\n",
    "n = 88\n",
    "for i in range(1,n+1):\n",
    "  img_path = path + \"eyes_\"+ str(i)+\".png\"\n",
    "  #vérifiez pour la target-size à quoi ça correspond\n",
    "  img = image.load_img(img_path, target_size=(224, 224))\n",
    "  x = image.img_to_array(img)\n",
    "  x = np.expand_dims(x, axis=0)\n",
    "  x = preprocess_input(x)\n",
    "  #Extraction des features\n",
    "  features = model.predict(x)\n",
    "  #On crée un tableau pour y stocker chaque feature d'image\n",
    "  array_features.append(features)"
   ]
  },
  {
   "cell_type": "markdown",
   "metadata": {
    "id": "tty8XPCmoOXa"
   },
   "source": [
    "https://stackoverflow.com/questions/47555829/preprocess-input-method-in-keras"
   ]
  },
  {
   "cell_type": "markdown",
   "metadata": {
    "id": "aMMfpOk86fVF"
   },
   "source": [
    "Vérification qu'on a bien toutes les images qui ont été traitées."
   ]
  },
  {
   "cell_type": "code",
   "execution_count": 17,
   "metadata": {
    "colab": {
     "base_uri": "https://localhost:8080/"
    },
    "id": "lLfa8PPzxCpn",
    "outputId": "dc6a256e-63a5-4f73-a23d-5bb0b4a165cb"
   },
   "outputs": [
    {
     "name": "stdout",
     "output_type": "stream",
     "text": [
      "(88, 1, 7, 7, 512)\n",
      "Ok\n"
     ]
    }
   ],
   "source": [
    "print(np.shape(array_features))\n",
    "\n",
    "if np.shape(array_features)[0] == n:\n",
    "  print(\"Ok\")\n",
    "else:\n",
    "  print(\"Le nombre d'images n'est pas le bon.\")"
   ]
  },
  {
   "cell_type": "markdown",
   "metadata": {
    "id": "MZ4aFMHyqnHz"
   },
   "source": [
    "### Redimensionner les données"
   ]
  },
  {
   "cell_type": "code",
   "execution_count": 18,
   "metadata": {
    "colab": {
     "base_uri": "https://localhost:8080/"
    },
    "id": "a-MZXP92qpBO",
    "outputId": "ecfd26fd-9e2c-43cc-9d7c-4a18c47ef32b"
   },
   "outputs": [
    {
     "name": "stdout",
     "output_type": "stream",
     "text": [
      "(88, 25088)\n"
     ]
    }
   ],
   "source": [
    "array_features_final = np.reshape(array_features,(-1,7*7*512))\n",
    "print(np.shape(array_features_final))"
   ]
  },
  {
   "cell_type": "markdown",
   "metadata": {
    "id": "usENCZpK4pwx"
   },
   "source": [
    "Marice sparse ou pas ?"
   ]
  },
  {
   "cell_type": "code",
   "execution_count": 19,
   "metadata": {
    "colab": {
     "base_uri": "https://localhost:8080/"
    },
    "id": "EoaLo9kt36_8",
    "outputId": "4870d77b-289c-48fc-90e5-27152f6feb8e"
   },
   "outputs": [
    {
     "name": "stdout",
     "output_type": "stream",
     "text": [
      "2092\n",
      "(array([0.0000000e+00, 9.4871148e-03, 1.6346302e-02, ..., 1.6911436e+02,\n",
      "       1.7268661e+02, 1.7467064e+02], dtype=float32), array([22996,     1,     1, ...,     1,     1,     1]))\n"
     ]
    }
   ],
   "source": [
    "tmp = array_features[0]\n",
    "print(np.count_nonzero(tmp))\n",
    "print(np.unique(tmp, return_counts=True))"
   ]
  },
  {
   "cell_type": "markdown",
   "metadata": {
    "id": "2zrJIOhT4sd2"
   },
   "source": [
    "On remarque qu'il y a 10 fois plus de valeurs à 0 que pas à 0."
   ]
  },
  {
   "cell_type": "markdown",
   "metadata": {
    "id": "aIwyNXqm50_b"
   },
   "source": [
    "Une fois les features extraites, on peut récupérer les labels connus pour pouvoir ensuite les attribuer à leurs features."
   ]
  },
  {
   "cell_type": "markdown",
   "metadata": {
    "id": "c9KnP0Z88uFB"
   },
   "source": [
    "Il faut créer le test d'entrainement de test"
   ]
  },
  {
   "cell_type": "markdown",
   "metadata": {
    "id": "h9AiExjebUUO"
   },
   "source": [
    "## Centrer les données"
   ]
  },
  {
   "cell_type": "markdown",
   "metadata": {
    "id": "L26UzyDnf-xo"
   },
   "source": [
    " For VGG16, call keras.applications.vgg16.preprocess_input on your inputs before passing them to the model. vgg16.preprocess_input will convert the input images from RGB to BGR, then will zero-center each color channel with respect to the ImageNet dataset, without scaling."
   ]
  },
  {
   "cell_type": "markdown",
   "metadata": {
    "id": "mY3_3RVBrJiP"
   },
   "source": [
    "## Partitionner les données"
   ]
  },
  {
   "cell_type": "code",
   "execution_count": 81,
   "metadata": {
    "id": "NLCsOzzg5F8G"
   },
   "outputs": [],
   "source": [
    "from sklearn.model_selection import train_test_split\n",
    "from sklearn.linear_model import LinearRegression\n",
    "from sklearn.metrics import mean_squared_error\n",
    "\n",
    "X_train = array_features_final[:60]\n",
    "X_test = array_features_final[75:]\n",
    "\n",
    "y_train = array_files_labels[:60]\n",
    "y_test = array_files_labels[75:]"
   ]
  },
  {
   "cell_type": "code",
   "execution_count": 82,
   "metadata": {
    "id": "rkZju-GHATnA"
   },
   "outputs": [],
   "source": [
    "import pandas as pd\n",
    "res = pd.DataFrame(index=[\"MSE\"])"
   ]
  },
  {
   "cell_type": "markdown",
   "metadata": {
    "id": "iYweseEKekHG"
   },
   "source": [
    "## Linear Regression"
   ]
  },
  {
   "cell_type": "code",
   "execution_count": 83,
   "metadata": {
    "colab": {
     "base_uri": "https://localhost:8080/",
     "height": 74
    },
    "id": "RY2QXVeCpJWW",
    "outputId": "7c2fed7d-a560-48ce-ecec-09534af4a754"
   },
   "outputs": [
    {
     "data": {
      "text/html": [
       "<style>#sk-container-id-4 {color: black;}#sk-container-id-4 pre{padding: 0;}#sk-container-id-4 div.sk-toggleable {background-color: white;}#sk-container-id-4 label.sk-toggleable__label {cursor: pointer;display: block;width: 100%;margin-bottom: 0;padding: 0.3em;box-sizing: border-box;text-align: center;}#sk-container-id-4 label.sk-toggleable__label-arrow:before {content: \"▸\";float: left;margin-right: 0.25em;color: #696969;}#sk-container-id-4 label.sk-toggleable__label-arrow:hover:before {color: black;}#sk-container-id-4 div.sk-estimator:hover label.sk-toggleable__label-arrow:before {color: black;}#sk-container-id-4 div.sk-toggleable__content {max-height: 0;max-width: 0;overflow: hidden;text-align: left;background-color: #f0f8ff;}#sk-container-id-4 div.sk-toggleable__content pre {margin: 0.2em;color: black;border-radius: 0.25em;background-color: #f0f8ff;}#sk-container-id-4 input.sk-toggleable__control:checked~div.sk-toggleable__content {max-height: 200px;max-width: 100%;overflow: auto;}#sk-container-id-4 input.sk-toggleable__control:checked~label.sk-toggleable__label-arrow:before {content: \"▾\";}#sk-container-id-4 div.sk-estimator input.sk-toggleable__control:checked~label.sk-toggleable__label {background-color: #d4ebff;}#sk-container-id-4 div.sk-label input.sk-toggleable__control:checked~label.sk-toggleable__label {background-color: #d4ebff;}#sk-container-id-4 input.sk-hidden--visually {border: 0;clip: rect(1px 1px 1px 1px);clip: rect(1px, 1px, 1px, 1px);height: 1px;margin: -1px;overflow: hidden;padding: 0;position: absolute;width: 1px;}#sk-container-id-4 div.sk-estimator {font-family: monospace;background-color: #f0f8ff;border: 1px dotted black;border-radius: 0.25em;box-sizing: border-box;margin-bottom: 0.5em;}#sk-container-id-4 div.sk-estimator:hover {background-color: #d4ebff;}#sk-container-id-4 div.sk-parallel-item::after {content: \"\";width: 100%;border-bottom: 1px solid gray;flex-grow: 1;}#sk-container-id-4 div.sk-label:hover label.sk-toggleable__label {background-color: #d4ebff;}#sk-container-id-4 div.sk-serial::before {content: \"\";position: absolute;border-left: 1px solid gray;box-sizing: border-box;top: 0;bottom: 0;left: 50%;z-index: 0;}#sk-container-id-4 div.sk-serial {display: flex;flex-direction: column;align-items: center;background-color: white;padding-right: 0.2em;padding-left: 0.2em;position: relative;}#sk-container-id-4 div.sk-item {position: relative;z-index: 1;}#sk-container-id-4 div.sk-parallel {display: flex;align-items: stretch;justify-content: center;background-color: white;position: relative;}#sk-container-id-4 div.sk-item::before, #sk-container-id-4 div.sk-parallel-item::before {content: \"\";position: absolute;border-left: 1px solid gray;box-sizing: border-box;top: 0;bottom: 0;left: 50%;z-index: -1;}#sk-container-id-4 div.sk-parallel-item {display: flex;flex-direction: column;z-index: 1;position: relative;background-color: white;}#sk-container-id-4 div.sk-parallel-item:first-child::after {align-self: flex-end;width: 50%;}#sk-container-id-4 div.sk-parallel-item:last-child::after {align-self: flex-start;width: 50%;}#sk-container-id-4 div.sk-parallel-item:only-child::after {width: 0;}#sk-container-id-4 div.sk-dashed-wrapped {border: 1px dashed gray;margin: 0 0.4em 0.5em 0.4em;box-sizing: border-box;padding-bottom: 0.4em;background-color: white;}#sk-container-id-4 div.sk-label label {font-family: monospace;font-weight: bold;display: inline-block;line-height: 1.2em;}#sk-container-id-4 div.sk-label-container {text-align: center;}#sk-container-id-4 div.sk-container {/* jupyter's `normalize.less` sets `[hidden] { display: none; }` but bootstrap.min.css set `[hidden] { display: none !important; }` so we also need the `!important` here to be able to override the default hidden behavior on the sphinx rendered scikit-learn.org. See: https://github.com/scikit-learn/scikit-learn/issues/21755 */display: inline-block !important;position: relative;}#sk-container-id-4 div.sk-text-repr-fallback {display: none;}</style><div id=\"sk-container-id-4\" class=\"sk-top-container\"><div class=\"sk-text-repr-fallback\"><pre>LinearRegression()</pre><b>In a Jupyter environment, please rerun this cell to show the HTML representation or trust the notebook. <br />On GitHub, the HTML representation is unable to render, please try loading this page with nbviewer.org.</b></div><div class=\"sk-container\" hidden><div class=\"sk-item\"><div class=\"sk-estimator sk-toggleable\"><input class=\"sk-toggleable__control sk-hidden--visually\" id=\"sk-estimator-id-4\" type=\"checkbox\" checked><label for=\"sk-estimator-id-4\" class=\"sk-toggleable__label sk-toggleable__label-arrow\">LinearRegression</label><div class=\"sk-toggleable__content\"><pre>LinearRegression()</pre></div></div></div></div></div>"
      ],
      "text/plain": [
       "LinearRegression()"
      ]
     },
     "execution_count": 83,
     "metadata": {},
     "output_type": "execute_result"
    }
   ],
   "source": [
    "linear_regression = LinearRegression()\n",
    "linear_regression.fit(X_train,y_train)"
   ]
  },
  {
   "cell_type": "code",
   "execution_count": 84,
   "metadata": {
    "colab": {
     "base_uri": "https://localhost:8080/"
    },
    "id": "kNWzFFMIpjrH",
    "outputId": "e1e80cbf-6782-419d-85e8-65d43184e22e"
   },
   "outputs": [
    {
     "name": "stdout",
     "output_type": "stream",
     "text": [
      "Mean Squared Error : 24711.781821508604\n"
     ]
    }
   ],
   "source": [
    "# Prédictions sur les données de test\n",
    "predictions = linear_regression.predict(X_test)\n",
    "\n",
    "# Calculer l'erreur quadratique moyenne\n",
    "mse = mean_squared_error(y_test, predictions)\n",
    "print(\"Mean Squared Error :\", mse)\n",
    "res.loc[:, \"Linear Regression\"] = (mse)"
   ]
  },
  {
   "cell_type": "markdown",
   "metadata": {},
   "source": [
    "# Méthode Deep Learning\n"
   ]
  },
  {
   "cell_type": "code",
   "execution_count": 101,
   "metadata": {},
   "outputs": [],
   "source": [
    "from keras.models import Sequential\n",
    "from keras.layers import Conv2D, MaxPooling2D, Flatten, Dense, LSTM, Reshape\n",
    "from keras.optimizers import Adam\n",
    "\n",
    "import numpy as np\n",
    "import matplotlib.pyplot as plt\n",
    "\n",
    "\n",
    "def create_model(image_height,image_width,image_channels):\n",
    "\n",
    "    model = Sequential()\n",
    "    model.add(Conv2D(32, (3, 3), activation='relu', input_shape=(image_height, image_width, image_channels)))\n",
    "    model.add(MaxPooling2D((2, 2)))\n",
    "    model.add(Conv2D(64, (3, 3), activation='relu'))\n",
    "    model.add(MaxPooling2D((2, 2)))\n",
    "    model.add(Conv2D(128, (3, 3), activation='relu'))\n",
    "    model.add(MaxPooling2D((2, 2)))\n",
    "    model.add(Flatten())\n",
    "\n",
    "    model.add(Dense(128, activation='relu'))\n",
    "    model.add(Dense(2, activation='linear'))  # Output layer for x, y coordinates of the gaze point\n",
    "\n",
    "    return model\n",
    "\n",
    "def summary(model):\n",
    "    model.summary()\n",
    "\n",
    "\n",
    "def train(model,train_images,train_labels,val_images,val_labels,num_epochs,batch_size):\n",
    "    \n",
    "    optimizer = Adam(lr=0.0001)\n",
    "    model.compile(optimizer=optimizer, loss='mean_squared_error')\n",
    "    history = model.fit(train_images, train_labels, validation_data=(val_images, val_labels), epochs=num_epochs, batch_size=batch_size, verbose = 2)\n",
    "\n",
    "    train_loss = history.history['loss']\n",
    "    val_loss = history.history['val_loss']\n",
    "\n",
    "    return model, train_loss,val_loss\n",
    "\n",
    "def plot_losses(train_loss,validation_loss):\n",
    "\n",
    "    plt.plot(train_loss, color = \"red\")\n",
    "    plt.plot(validation_loss, color = \"blue\")\n",
    "    plt.show()\n",
    "\n",
    "def X(path):\n",
    "    fichier = open(path, \"r\")\n",
    "    image = []\n",
    "    for line in fichier:\n",
    "        line = line.split(\", \")\n",
    "        line = list(map(float,line))\n",
    "        image.append(line)\n",
    "    return image\n",
    "\n",
    "def Y(path):\n",
    "    fichier = open(path, \"r\")\n",
    "    for line in fichier:\n",
    "        output = line.split(\", \")\n",
    "    return (int(output[0]),int(output[1]))\n",
    "\n",
    "def dataset(images,outputs,train_size,val_size,test_size):\n",
    "    train_images = images[:train_size]\n",
    "    train_labels = outputs[:train_size]\n",
    "\n",
    "    val_images = images[train_size:train_size+val_size]\n",
    "    val_labels = outputs[train_size:train_size+val_size]\n",
    "\n",
    "    test_images = images[train_size+val_size:train_size+val_size+test_size]\n",
    "    test_labels = outputs[train_size+val_size:train_size+val_size+test_size]\n",
    "\n",
    "    return np.array(train_images),np.array(train_labels),np.array(val_images),np.array(val_labels),np.array(test_images),np.array(test_labels)\n",
    "\n",
    "def test(image,output,model):\n",
    "    pred = model.predict(image)\n",
    "    #dist = ((output[0]-)**2 + (output[1]-y)**2)**(1/2)\n",
    "    return pred"
   ]
  },
  {
   "cell_type": "code",
   "execution_count": 102,
   "metadata": {},
   "outputs": [],
   "source": [
    "images = list()\n",
    "outputs = list()\n",
    "train_size = 60\n",
    "val_size = 15\n",
    "test_size = 13\n",
    "for i in range(1,train_size+val_size+test_size+1):\n",
    "    image = X(\"eyes_detection_1/pixels_faces_\"+str(i)+\".txt\")\n",
    "    output = Y(\"eyes_detection_1/points_increment_\"+str(i)+\".txt\")\n",
    "    images.append(image)\n",
    "    outputs.append(output)\n",
    "\n",
    "train_images,train_labels,val_images,val_labels,test_images,test_labels = dataset(images,outputs,train_size,val_size,test_size)\n"
   ]
  },
  {
   "cell_type": "code",
   "execution_count": 103,
   "metadata": {},
   "outputs": [],
   "source": [
    "train_images = train_images.astype('float32')\n",
    "train_labels = train_labels.astype('float32')\n",
    "\n",
    "val_images = val_images.astype(\"float32\")\n",
    "val_labels = val_labels.astype(\"float32\")\n",
    "\n",
    "test_images = test_images.astype('float32')\n",
    "test_labels = test_labels.astype('float32')\n",
    "\n",
    "\n"
   ]
  },
  {
   "cell_type": "code",
   "execution_count": 104,
   "metadata": {},
   "outputs": [
    {
     "name": "stdout",
     "output_type": "stream",
     "text": [
      "Epoch 1/64\n",
      "60/60 - 2s - loss: 204550.9688 - val_loss: 128697.6797 - 2s/epoch - 26ms/step\n",
      "Epoch 2/64\n",
      "60/60 - 1s - loss: 66833.0156 - val_loss: 74108.5703 - 1s/epoch - 22ms/step\n",
      "Epoch 3/64\n",
      "60/60 - 2s - loss: 29194.8379 - val_loss: 25292.0371 - 2s/epoch - 25ms/step\n",
      "Epoch 4/64\n",
      "60/60 - 1s - loss: 16087.2568 - val_loss: 15756.6914 - 1s/epoch - 24ms/step\n",
      "Epoch 5/64\n",
      "60/60 - 1s - loss: 15550.5469 - val_loss: 29280.2285 - 1s/epoch - 21ms/step\n",
      "Epoch 6/64\n",
      "60/60 - 1s - loss: 8421.9551 - val_loss: 13736.0166 - 1s/epoch - 21ms/step\n",
      "Epoch 7/64\n",
      "60/60 - 1s - loss: 5977.1626 - val_loss: 19241.8496 - 1s/epoch - 20ms/step\n",
      "Epoch 8/64\n",
      "60/60 - 1s - loss: 4328.0176 - val_loss: 14709.2871 - 1s/epoch - 21ms/step\n",
      "Epoch 9/64\n",
      "60/60 - 1s - loss: 3354.8010 - val_loss: 11449.2949 - 1s/epoch - 21ms/step\n",
      "Epoch 10/64\n",
      "60/60 - 1s - loss: 2136.6082 - val_loss: 15086.8281 - 1s/epoch - 21ms/step\n",
      "Epoch 11/64\n",
      "60/60 - 1s - loss: 1066.6431 - val_loss: 15717.4258 - 1s/epoch - 21ms/step\n",
      "Epoch 12/64\n",
      "60/60 - 1s - loss: 1220.7371 - val_loss: 14365.6123 - 1s/epoch - 21ms/step\n",
      "Epoch 13/64\n",
      "60/60 - 1s - loss: 789.8929 - val_loss: 14848.8086 - 1s/epoch - 21ms/step\n",
      "Epoch 14/64\n",
      "60/60 - 1s - loss: 654.2159 - val_loss: 13425.6660 - 1s/epoch - 21ms/step\n",
      "Epoch 15/64\n",
      "60/60 - 1s - loss: 451.2042 - val_loss: 13072.0430 - 1s/epoch - 21ms/step\n",
      "Epoch 16/64\n",
      "60/60 - 1s - loss: 263.6411 - val_loss: 13120.7852 - 1s/epoch - 20ms/step\n",
      "Epoch 17/64\n",
      "60/60 - 1s - loss: 238.7033 - val_loss: 12545.0957 - 1s/epoch - 21ms/step\n",
      "Epoch 18/64\n",
      "60/60 - 1s - loss: 239.0841 - val_loss: 12306.8340 - 1s/epoch - 21ms/step\n",
      "Epoch 19/64\n",
      "60/60 - 1s - loss: 282.7740 - val_loss: 11157.1875 - 1s/epoch - 21ms/step\n",
      "Epoch 20/64\n",
      "60/60 - 1s - loss: 265.5272 - val_loss: 11953.3740 - 1s/epoch - 20ms/step\n",
      "Epoch 21/64\n",
      "60/60 - 1s - loss: 131.8762 - val_loss: 11519.7549 - 1s/epoch - 21ms/step\n",
      "Epoch 22/64\n",
      "60/60 - 1s - loss: 117.7036 - val_loss: 11238.6748 - 1s/epoch - 21ms/step\n",
      "Epoch 23/64\n",
      "60/60 - 1s - loss: 154.9167 - val_loss: 10616.3574 - 1s/epoch - 21ms/step\n",
      "Epoch 24/64\n",
      "60/60 - 1s - loss: 171.3288 - val_loss: 11077.6963 - 1s/epoch - 21ms/step\n",
      "Epoch 25/64\n",
      "60/60 - 1s - loss: 262.8339 - val_loss: 11589.9775 - 1s/epoch - 21ms/step\n",
      "Epoch 26/64\n",
      "60/60 - 1s - loss: 479.8560 - val_loss: 12172.2383 - 1s/epoch - 21ms/step\n",
      "Epoch 27/64\n",
      "60/60 - 1s - loss: 514.6103 - val_loss: 12001.8496 - 1s/epoch - 21ms/step\n",
      "Epoch 28/64\n",
      "60/60 - 1s - loss: 2160.1650 - val_loss: 19268.0625 - 1s/epoch - 20ms/step\n",
      "Epoch 29/64\n",
      "60/60 - 1s - loss: 2623.3115 - val_loss: 23158.8984 - 1s/epoch - 21ms/step\n",
      "Epoch 30/64\n",
      "60/60 - 1s - loss: 7663.8525 - val_loss: 25973.6152 - 1s/epoch - 21ms/step\n",
      "Epoch 31/64\n",
      "60/60 - 1s - loss: 10017.5762 - val_loss: 23211.3398 - 1s/epoch - 21ms/step\n",
      "Epoch 32/64\n",
      "60/60 - 1s - loss: 4067.6140 - val_loss: 12126.6533 - 1s/epoch - 21ms/step\n",
      "Epoch 33/64\n",
      "60/60 - 1s - loss: 3289.7292 - val_loss: 24849.4180 - 1s/epoch - 23ms/step\n",
      "Epoch 34/64\n",
      "60/60 - 1s - loss: 3025.9136 - val_loss: 15253.0176 - 1s/epoch - 22ms/step\n",
      "Epoch 35/64\n",
      "60/60 - 1s - loss: 1100.0790 - val_loss: 14145.4512 - 1s/epoch - 22ms/step\n",
      "Epoch 36/64\n",
      "60/60 - 1s - loss: 635.3750 - val_loss: 11689.9434 - 1s/epoch - 22ms/step\n",
      "Epoch 37/64\n",
      "60/60 - 1s - loss: 346.0486 - val_loss: 11675.8975 - 1s/epoch - 23ms/step\n",
      "Epoch 38/64\n",
      "60/60 - 1s - loss: 255.9039 - val_loss: 12992.9209 - 1s/epoch - 23ms/step\n",
      "Epoch 39/64\n",
      "60/60 - 1s - loss: 313.9357 - val_loss: 11548.7764 - 1s/epoch - 21ms/step\n",
      "Epoch 40/64\n",
      "60/60 - 1s - loss: 355.2223 - val_loss: 11543.1533 - 1s/epoch - 22ms/step\n",
      "Epoch 41/64\n",
      "60/60 - 1s - loss: 558.9542 - val_loss: 12212.5615 - 1s/epoch - 21ms/step\n",
      "Epoch 42/64\n",
      "60/60 - 1s - loss: 768.6707 - val_loss: 14238.8574 - 1s/epoch - 21ms/step\n",
      "Epoch 43/64\n",
      "60/60 - 1s - loss: 564.4178 - val_loss: 12326.5938 - 1s/epoch - 21ms/step\n",
      "Epoch 44/64\n",
      "60/60 - 1s - loss: 622.6351 - val_loss: 13121.6035 - 1s/epoch - 20ms/step\n",
      "Epoch 45/64\n",
      "60/60 - 1s - loss: 563.8405 - val_loss: 11347.2852 - 1s/epoch - 21ms/step\n",
      "Epoch 46/64\n",
      "60/60 - 1s - loss: 342.6507 - val_loss: 12828.1943 - 1s/epoch - 21ms/step\n",
      "Epoch 47/64\n",
      "60/60 - 1s - loss: 492.3980 - val_loss: 12869.6748 - 1s/epoch - 21ms/step\n",
      "Epoch 48/64\n",
      "60/60 - 1s - loss: 376.3788 - val_loss: 10739.7217 - 1s/epoch - 20ms/step\n",
      "Epoch 49/64\n",
      "60/60 - 1s - loss: 2169.6594 - val_loss: 15779.5303 - 1s/epoch - 21ms/step\n",
      "Epoch 50/64\n",
      "60/60 - 1s - loss: 5952.3271 - val_loss: 12806.1045 - 1s/epoch - 21ms/step\n",
      "Epoch 51/64\n",
      "60/60 - 1s - loss: 4186.2988 - val_loss: 10482.7236 - 1s/epoch - 21ms/step\n",
      "Epoch 52/64\n",
      "60/60 - 1s - loss: 2187.8538 - val_loss: 10693.2129 - 1s/epoch - 21ms/step\n",
      "Epoch 53/64\n",
      "60/60 - 1s - loss: 1488.7642 - val_loss: 10030.9131 - 1s/epoch - 21ms/step\n",
      "Epoch 54/64\n",
      "60/60 - 1s - loss: 1466.1898 - val_loss: 11042.0000 - 1s/epoch - 21ms/step\n",
      "Epoch 55/64\n",
      "60/60 - 1s - loss: 818.6774 - val_loss: 10524.0527 - 1s/epoch - 21ms/step\n",
      "Epoch 56/64\n",
      "60/60 - 1s - loss: 974.4727 - val_loss: 10006.5645 - 1s/epoch - 21ms/step\n",
      "Epoch 57/64\n",
      "60/60 - 1s - loss: 606.7902 - val_loss: 11173.5137 - 1s/epoch - 21ms/step\n",
      "Epoch 58/64\n",
      "60/60 - 1s - loss: 271.8991 - val_loss: 11100.9043 - 1s/epoch - 21ms/step\n",
      "Epoch 59/64\n",
      "60/60 - 1s - loss: 240.9696 - val_loss: 11215.1826 - 1s/epoch - 21ms/step\n",
      "Epoch 60/64\n",
      "60/60 - 1s - loss: 401.7445 - val_loss: 11012.3232 - 1s/epoch - 21ms/step\n",
      "Epoch 61/64\n",
      "60/60 - 1s - loss: 704.6503 - val_loss: 11734.8428 - 1s/epoch - 21ms/step\n",
      "Epoch 62/64\n",
      "60/60 - 1s - loss: 527.8304 - val_loss: 11391.8330 - 1s/epoch - 21ms/step\n",
      "Epoch 63/64\n",
      "60/60 - 1s - loss: 521.8190 - val_loss: 11429.3623 - 1s/epoch - 21ms/step\n",
      "Epoch 64/64\n",
      "60/60 - 1s - loss: 729.3066 - val_loss: 11126.3838 - 1s/epoch - 21ms/step\n"
     ]
    }
   ],
   "source": [
    "batch_size = 1\n",
    "epochs = 64\n",
    "\n",
    "image_height = 100\n",
    "image_width = 200\n",
    "image_channels = 1\n",
    "\n",
    "model = create_model(image_height=image_height,image_width=image_width,image_channels = image_channels)\n",
    "model,train_loss,val_loss = train(model,train_images,train_labels,val_images,val_labels,epochs,batch_size)"
   ]
  },
  {
   "cell_type": "code",
   "execution_count": 105,
   "metadata": {},
   "outputs": [
    {
     "data": {
      "image/png": "[encoded data removed]",
      "text/plain": [
       "<Figure size 640x480 with 1 Axes>"
      ]
     },
     "metadata": {},
     "output_type": "display_data"
    }
   ],
   "source": [
    "plot_losses(train_loss,val_loss)"
   ]
  },
  {
   "cell_type": "code",
   "execution_count": 106,
   "metadata": {
    "scrolled": true
   },
   "outputs": [
    {
     "name": "stdout",
     "output_type": "stream",
     "text": [
      "1/1 [==============================] - 0s 70ms/step\n"
     ]
    },
    {
     "data": {
      "text/plain": [
       "array([[1214.2661  ,  872.11847 ],\n",
       "       [ 248.99883 ,   67.25469 ],\n",
       "       [ 486.812   ,  371.6669  ],\n",
       "       [ 728.3334  ,  -82.86021 ],\n",
       "       [ 644.04333 ,  -38.948242],\n",
       "       [ 241.77031 ,  461.5605  ],\n",
       "       [1362.081   ,   81.94906 ],\n",
       "       [ 459.78363 ,  700.17377 ],\n",
       "       [ 356.46863 ,  343.9984  ],\n",
       "       [1059.4181  ,   71.40541 ],\n",
       "       [ 726.35925 ,  678.2409  ],\n",
       "       [ 709.26794 ,  320.17487 ],\n",
       "       [ 973.59717 ,  681.66315 ]], dtype=float32)"
      ]
     },
     "execution_count": 106,
     "metadata": {},
     "output_type": "execute_result"
    }
   ],
   "source": [
    "pred = test(test_images,test_labels,model)\n",
    "pred"
   ]
  },
  {
   "cell_type": "code",
   "execution_count": 107,
   "metadata": {},
   "outputs": [
    {
     "name": "stdout",
     "output_type": "stream",
     "text": [
      "Mean Squared Error Linear Regression: 24711.781821508604\n",
      "Mean Squared Error Deep Learning Model: 7177.598796002815\n"
     ]
    }
   ],
   "source": [
    "# Calculer l'erreur quadratique moyenne\n",
    "mse = mean_squared_error(y_test, predictions)\n",
    "print(\"Mean Squared Error Linear Regression:\", mse)\n",
    "mse_2 = mean_squared_error(y_test, pred)\n",
    "print(\"Mean Squared Error Deep Learning Model:\",mse_2)\n"
   ]
  },
  {
   "cell_type": "code",
   "execution_count": null,
   "metadata": {},
   "outputs": [],
   "source": []
  }
 ],
 "metadata": {
  "colab": {
   "provenance": [],
   "toc_visible": true
  },
  "kernelspec": {
   "display_name": "Python 3",
   "language": "python",
   "name": "python3"
  },
  "language_info": {
   "codemirror_mode": {
    "name": "ipython",
    "version": 3
   },
   "file_extension": ".py",
   "mimetype": "text/x-python",
   "name": "python",
   "nbconvert_exporter": "python",
   "pygments_lexer": "ipython3",
   "version": "3.8.10"
  }
 },
 "nbformat": 4,
 "nbformat_minor": 1
}
