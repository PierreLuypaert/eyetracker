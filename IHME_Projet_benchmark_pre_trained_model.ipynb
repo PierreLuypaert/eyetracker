{
  "nbformat": 4,
  "nbformat_minor": 0,
  "metadata": {
    "colab": {
      "provenance": [],
      "toc_visible": true
    },
    "kernelspec": {
      "name": "python3",
      "display_name": "Python 3"
    },
    "language_info": {
      "name": "python"
    }
  },
  "cells": [
    {
      "cell_type": "code",
      "source": [
        "import numpy as np\n",
        "from numpy.random import permutation\n",
        "import time\n",
        "import pandas as pd\n",
        "import matplotlib.pyplot as plt\n",
        "fw, fh = plt.rcParams[\"figure.figsize\"]\n",
        "from sklearn.datasets import fetch_openml\n",
        "from sklearn.decomposition import PCA\n",
        "from sklearn.discriminant_analysis import LinearDiscriminantAnalysis\n",
        "from sklearn.metrics import silhouette_score, calinski_harabasz_score\n",
        "import sklearn.model_selection\n"
      ],
      "metadata": {
        "id": "dHlmKl90YUf-"
      },
      "execution_count": 1,
      "outputs": []
    },
    {
      "cell_type": "markdown",
      "source": [
        "# Etape 0 : Récupérer les données"
      ],
      "metadata": {
        "id": "5wsM9JB5ZHzN"
      }
    },
    {
      "cell_type": "markdown",
      "source": [
        "Accès au Google Drive (dans le cas où le dataset est stocké dans Google Drive)"
      ],
      "metadata": {
        "id": "zj-7NadczV_O"
      }
    },
    {
      "cell_type": "code",
      "source": [
        "from google.colab import drive\n",
        "drive.mount('/content/drive')"
      ],
      "metadata": {
        "id": "loSFjpm-esHh",
        "colab": {
          "base_uri": "https://localhost:8080/"
        },
        "outputId": "792566ed-266d-427f-fc73-ee8f2a637806"
      },
      "execution_count": 2,
      "outputs": [
        {
          "output_type": "stream",
          "name": "stdout",
          "text": [
            "Drive already mounted at /content/drive; to attempt to forcibly remount, call drive.mount(\"/content/drive\", force_remount=True).\n"
          ]
        }
      ]
    },
    {
      "cell_type": "code",
      "source": [
        "path = \"/content/drive/MyDrive/Travail/eyes_detection/\""
      ],
      "metadata": {
        "id": "0i_UpFigx1-b"
      },
      "execution_count": 3,
      "outputs": []
    },
    {
      "cell_type": "markdown",
      "source": [
        "Nombre d'images"
      ],
      "metadata": {
        "id": "p-8mZh4d7tDN"
      }
    },
    {
      "cell_type": "code",
      "source": [
        "n = 88"
      ],
      "metadata": {
        "id": "OqsTm_6H7uER"
      },
      "execution_count": 4,
      "outputs": []
    },
    {
      "cell_type": "markdown",
      "source": [
        "Lecture des fichiers textes"
      ],
      "metadata": {
        "id": "OPs_ETtFzYW0"
      }
    },
    {
      "cell_type": "code",
      "source": [
        "array_files = []\n",
        "for i in range(1,n+1):\n",
        "  file_path = path + \"pixels_faces_\"+str(i)+\".txt\"\n",
        "  file_tmp = open(file_path, \"r\")\n",
        "  array_files.append(file_tmp.read())"
      ],
      "metadata": {
        "id": "HALSq-cWyOrS"
      },
      "execution_count": 5,
      "outputs": []
    },
    {
      "cell_type": "markdown",
      "source": [
        "Vérification qu'on a lu tous les fichiers"
      ],
      "metadata": {
        "id": "Md4IfYGa0CpT"
      }
    },
    {
      "cell_type": "code",
      "source": [
        "print(np.shape(array_files))\n",
        "\n",
        "if np.shape(array_files)[0] == n:\n",
        "  print(\"Ok\")\n",
        "else:\n",
        "  print(\"Le nombre de labels n'est pas le bon.\")"
      ],
      "metadata": {
        "id": "hZ4STlyo0xyE",
        "colab": {
          "base_uri": "https://localhost:8080/"
        },
        "outputId": "6c928648-c547-4f23-dbdb-60d1860e1787"
      },
      "execution_count": 6,
      "outputs": [
        {
          "output_type": "stream",
          "name": "stdout",
          "text": [
            "(88,)\n",
            "Ok\n"
          ]
        }
      ]
    },
    {
      "cell_type": "markdown",
      "source": [
        "### Extraction du label"
      ],
      "metadata": {
        "id": "irPLC2Zj5yxD"
      }
    },
    {
      "cell_type": "markdown",
      "source": [
        "Le label doit être transformé en tuple de string pour qu'on puisse ensuite créer les sets d'apprentissages et de tests. On doit avoir à la fin y qui est une liste de tuple mais de dimensions 1 pour le training et le test set."
      ],
      "metadata": {
        "id": "CdqwdzqFtlwA"
      }
    },
    {
      "cell_type": "code",
      "source": [
        "from ast import literal_eval"
      ],
      "metadata": {
        "id": "oIq0F6X1tJ54"
      },
      "execution_count": 7,
      "outputs": []
    },
    {
      "cell_type": "code",
      "source": [
        "file_path = path + \"points_increment_1.txt\"\n",
        "file_tmp = open(file_path, \"r\")\n",
        "tmp = (literal_eval(file_tmp.read()))"
      ],
      "metadata": {
        "id": "LCinyUs8wWw3"
      },
      "execution_count": 8,
      "outputs": []
    },
    {
      "cell_type": "code",
      "source": [
        "array_files_labels = []\n",
        "for i in range(1,n+1):\n",
        "  file_path = path + \"points_increment_\"+str(i)+\".txt\"\n",
        "  file_tmp = open(file_path, \"r\")\n",
        "  array_files_labels.append(list(literal_eval(file_tmp.read())))"
      ],
      "metadata": {
        "id": "7XF-v4EG5_b1"
      },
      "execution_count": 9,
      "outputs": []
    },
    {
      "cell_type": "markdown",
      "source": [
        "Vérification qu'on a bien tout les labels"
      ],
      "metadata": {
        "id": "wrn73Yih7GKg"
      }
    },
    {
      "cell_type": "code",
      "source": [
        "print(np.shape(array_files_labels))\n",
        "\n",
        "if np.shape(array_files_labels)[0] == n:\n",
        "  print(\"Ok\")\n",
        "else:\n",
        "  print(\"Le nombre de labels n'est pas le bon.\")"
      ],
      "metadata": {
        "id": "VwzytObL7IEG",
        "colab": {
          "base_uri": "https://localhost:8080/"
        },
        "outputId": "e03ddf55-4206-4461-e956-af406a8a6bc8"
      },
      "execution_count": 10,
      "outputs": [
        {
          "output_type": "stream",
          "name": "stdout",
          "text": [
            "(88, 2)\n",
            "Ok\n"
          ]
        }
      ]
    },
    {
      "cell_type": "markdown",
      "source": [
        "On a le bon nombre d'image et de labels, les données d'entrée sont correctes."
      ],
      "metadata": {
        "id": "NZ_YAMYI8B73"
      }
    },
    {
      "cell_type": "markdown",
      "source": [
        "# Etape 2 : Le modèle d'apprentissage"
      ],
      "metadata": {
        "id": "tYdRl67vYcGL"
      }
    },
    {
      "cell_type": "markdown",
      "source": [
        "On a un problème de régression car il doit prédire parmi un nombre suffisament grand de classes pour qu'on considère qu'il est infini."
      ],
      "metadata": {
        "id": "3O_jvEX9eedT"
      }
    },
    {
      "cell_type": "markdown",
      "source": [
        "On va utiliser du deep learning pour extraire les caractéristiques et au lieu d'avoir la couche de décision, on remplace cette couche par notre modèle en machine learning de régression."
      ],
      "metadata": {
        "id": "zjpvHY-lnIhc"
      }
    },
    {
      "cell_type": "markdown",
      "source": [
        "Import des biblio"
      ],
      "metadata": {
        "id": "2tPqezR60RV_"
      }
    },
    {
      "cell_type": "code",
      "source": [
        "from tensorflow.keras.applications.vgg16 import VGG16\n",
        "from tensorflow.keras.preprocessing import image\n",
        "from tensorflow.keras.applications.vgg16 import preprocess_input\n",
        "import numpy as np"
      ],
      "metadata": {
        "id": "1sThEtMDsLUU"
      },
      "execution_count": 11,
      "outputs": []
    },
    {
      "cell_type": "markdown",
      "source": [
        "Création du modèle VGG16 déjà pré entrainé sur un problème de classification (à voir pour trouver un modèle de régression ?)"
      ],
      "metadata": {
        "id": "upGDONI60Sw0"
      }
    },
    {
      "cell_type": "code",
      "source": [
        "model = VGG16(weights='imagenet', include_top=False)"
      ],
      "metadata": {
        "id": "oGiAbrYDzGz8"
      },
      "execution_count": 12,
      "outputs": []
    },
    {
      "cell_type": "markdown",
      "source": [
        "Extraction des features (1min)\n",
        "\n",
        "https://keras.io/api/applications/#extract-features-with-vgg16"
      ],
      "metadata": {
        "id": "DuG0wGwd0ilE"
      }
    },
    {
      "cell_type": "code",
      "source": [
        "array_features = []\n",
        "n = 88\n",
        "for i in range(1,n+1):\n",
        "  img_path = path + \"eyes_\"+ str(i)+\".png\"\n",
        "  #vérifiez pour la target-size à quoi ça correspond\n",
        "  img = image.load_img(img_path, target_size=(224, 224))\n",
        "  x = image.img_to_array(img)\n",
        "  x = np.expand_dims(x, axis=0)\n",
        "  x = preprocess_input(x)\n",
        "  #Extraction des features\n",
        "  features = model.predict(x)\n",
        "  #On crée un tableau pour y stocker chaque feature d'image\n",
        "  array_features.append(features)"
      ],
      "metadata": {
        "id": "jY544DzJ2b6l",
        "colab": {
          "base_uri": "https://localhost:8080/"
        },
        "outputId": "7a86c700-ef5e-4234-c905-cfb15c35d159"
      },
      "execution_count": 13,
      "outputs": [
        {
          "output_type": "stream",
          "name": "stdout",
          "text": [
            "1/1 [==============================] - 2s 2s/step\n",
            "1/1 [==============================] - 1s 1s/step\n",
            "1/1 [==============================] - 2s 2s/step\n",
            "1/1 [==============================] - 2s 2s/step\n",
            "1/1 [==============================] - 1s 1s/step\n",
            "1/1 [==============================] - 1s 1s/step\n",
            "1/1 [==============================] - 1s 1s/step\n",
            "1/1 [==============================] - 1s 1s/step\n",
            "1/1 [==============================] - 1s 1s/step\n",
            "1/1 [==============================] - 1s 922ms/step\n",
            "1/1 [==============================] - 1s 553ms/step\n",
            "1/1 [==============================] - 1s 565ms/step\n",
            "1/1 [==============================] - 1s 544ms/step\n",
            "1/1 [==============================] - 1s 579ms/step\n",
            "1/1 [==============================] - 1s 540ms/step\n",
            "1/1 [==============================] - 1s 969ms/step\n",
            "1/1 [==============================] - 1s 896ms/step\n",
            "1/1 [==============================] - 1s 928ms/step\n",
            "1/1 [==============================] - 1s 973ms/step\n",
            "1/1 [==============================] - 1s 947ms/step\n",
            "1/1 [==============================] - 1s 859ms/step\n",
            "1/1 [==============================] - 1s 532ms/step\n",
            "1/1 [==============================] - 1s 551ms/step\n",
            "1/1 [==============================] - 1s 545ms/step\n",
            "1/1 [==============================] - 1s 546ms/step\n",
            "1/1 [==============================] - 1s 564ms/step\n",
            "1/1 [==============================] - 1s 775ms/step\n",
            "1/1 [==============================] - 1s 1s/step\n",
            "1/1 [==============================] - 1s 1s/step\n",
            "1/1 [==============================] - 1s 783ms/step\n",
            "1/1 [==============================] - 1s 562ms/step\n",
            "1/1 [==============================] - 1s 568ms/step\n",
            "1/1 [==============================] - 1s 535ms/step\n",
            "1/1 [==============================] - 1s 582ms/step\n",
            "1/1 [==============================] - 1s 908ms/step\n",
            "1/1 [==============================] - 1s 975ms/step\n",
            "1/1 [==============================] - 2s 2s/step\n",
            "1/1 [==============================] - 1s 1s/step\n",
            "1/1 [==============================] - 1s 544ms/step\n",
            "1/1 [==============================] - 1s 555ms/step\n",
            "1/1 [==============================] - 1s 538ms/step\n",
            "1/1 [==============================] - 1s 736ms/step\n",
            "1/1 [==============================] - 1s 549ms/step\n",
            "1/1 [==============================] - 1s 535ms/step\n",
            "1/1 [==============================] - 1s 554ms/step\n",
            "1/1 [==============================] - 1s 540ms/step\n",
            "1/1 [==============================] - 1s 559ms/step\n",
            "1/1 [==============================] - 1s 552ms/step\n",
            "1/1 [==============================] - 1s 548ms/step\n",
            "1/1 [==============================] - 1s 551ms/step\n",
            "1/1 [==============================] - 1s 546ms/step\n",
            "1/1 [==============================] - 1s 545ms/step\n",
            "1/1 [==============================] - 1s 564ms/step\n",
            "1/1 [==============================] - 1s 698ms/step\n",
            "1/1 [==============================] - 1s 975ms/step\n",
            "1/1 [==============================] - 1s 861ms/step\n",
            "1/1 [==============================] - 1s 989ms/step\n",
            "1/1 [==============================] - 1s 973ms/step\n",
            "1/1 [==============================] - 1s 912ms/step\n",
            "1/1 [==============================] - 1s 727ms/step\n",
            "1/1 [==============================] - 1s 556ms/step\n",
            "1/1 [==============================] - 1s 564ms/step\n",
            "1/1 [==============================] - 1s 559ms/step\n",
            "1/1 [==============================] - 1s 551ms/step\n",
            "1/1 [==============================] - 1s 539ms/step\n",
            "1/1 [==============================] - 1s 559ms/step\n",
            "1/1 [==============================] - 1s 571ms/step\n",
            "1/1 [==============================] - 1s 544ms/step\n",
            "1/1 [==============================] - 1s 557ms/step\n",
            "1/1 [==============================] - 1s 546ms/step\n",
            "1/1 [==============================] - 1s 556ms/step\n",
            "1/1 [==============================] - 1s 558ms/step\n",
            "1/1 [==============================] - 1s 556ms/step\n",
            "1/1 [==============================] - 1s 564ms/step\n",
            "1/1 [==============================] - 1s 557ms/step\n",
            "1/1 [==============================] - 1s 832ms/step\n",
            "1/1 [==============================] - 1s 948ms/step\n",
            "1/1 [==============================] - 1s 968ms/step\n",
            "1/1 [==============================] - 1s 1s/step\n",
            "1/1 [==============================] - 1s 886ms/step\n",
            "1/1 [==============================] - 1s 613ms/step\n",
            "1/1 [==============================] - 1s 536ms/step\n",
            "1/1 [==============================] - 1s 554ms/step\n",
            "1/1 [==============================] - 1s 561ms/step\n",
            "1/1 [==============================] - 1s 546ms/step\n",
            "1/1 [==============================] - 1s 589ms/step\n",
            "1/1 [==============================] - 1s 560ms/step\n",
            "1/1 [==============================] - 1s 546ms/step\n"
          ]
        }
      ]
    },
    {
      "cell_type": "markdown",
      "source": [
        "https://stackoverflow.com/questions/47555829/preprocess-input-method-in-keras"
      ],
      "metadata": {
        "id": "tty8XPCmoOXa"
      }
    },
    {
      "cell_type": "markdown",
      "source": [
        "Vérification qu'on a bien toutes les images qui ont été traitées."
      ],
      "metadata": {
        "id": "aMMfpOk86fVF"
      }
    },
    {
      "cell_type": "code",
      "source": [
        "print(np.shape(array_features))\n",
        "\n",
        "if np.shape(array_features)[0] == n:\n",
        "  print(\"Ok\")\n",
        "else:\n",
        "  print(\"Le nombre d'images n'est pas le bon.\")"
      ],
      "metadata": {
        "id": "lLfa8PPzxCpn",
        "colab": {
          "base_uri": "https://localhost:8080/"
        },
        "outputId": "dc6a256e-63a5-4f73-a23d-5bb0b4a165cb"
      },
      "execution_count": 14,
      "outputs": [
        {
          "output_type": "stream",
          "name": "stdout",
          "text": [
            "(88, 1, 7, 7, 512)\n",
            "Ok\n"
          ]
        }
      ]
    },
    {
      "cell_type": "markdown",
      "source": [
        "### Redimensionner les données"
      ],
      "metadata": {
        "id": "MZ4aFMHyqnHz"
      }
    },
    {
      "cell_type": "code",
      "source": [
        "array_features_final = np.reshape(array_features,(-1,7*7*512))\n",
        "print(np.shape(array_features_final))"
      ],
      "metadata": {
        "id": "a-MZXP92qpBO",
        "colab": {
          "base_uri": "https://localhost:8080/"
        },
        "outputId": "ecfd26fd-9e2c-43cc-9d7c-4a18c47ef32b"
      },
      "execution_count": 15,
      "outputs": [
        {
          "output_type": "stream",
          "name": "stdout",
          "text": [
            "(88, 25088)\n"
          ]
        }
      ]
    },
    {
      "cell_type": "markdown",
      "source": [
        "Marice sparse ou pas ?"
      ],
      "metadata": {
        "id": "usENCZpK4pwx"
      }
    },
    {
      "cell_type": "code",
      "source": [
        "tmp = array_features[0]\n",
        "print(np.count_nonzero(tmp))\n",
        "print(np.unique(tmp, return_counts=True))"
      ],
      "metadata": {
        "id": "EoaLo9kt36_8",
        "colab": {
          "base_uri": "https://localhost:8080/"
        },
        "outputId": "4870d77b-289c-48fc-90e5-27152f6feb8e"
      },
      "execution_count": 16,
      "outputs": [
        {
          "output_type": "stream",
          "name": "stdout",
          "text": [
            "2092\n",
            "(array([0.0000000e+00, 9.5178410e-03, 1.6311496e-02, ..., 1.6911426e+02,\n",
            "       1.7268654e+02, 1.7467073e+02], dtype=float32), array([22996,     1,     1, ...,     1,     1,     1]))\n"
          ]
        }
      ]
    },
    {
      "cell_type": "markdown",
      "source": [
        "On remarque qu'il y a 10 fois plus de valeurs à 0 que pas à 0."
      ],
      "metadata": {
        "id": "2zrJIOhT4sd2"
      }
    },
    {
      "cell_type": "markdown",
      "source": [
        "Une fois les features extraites, on peut récupérer les labels connus pour pouvoir ensuite les attribuer à leurs features."
      ],
      "metadata": {
        "id": "aIwyNXqm50_b"
      }
    },
    {
      "cell_type": "markdown",
      "source": [
        "Il faut créer le test d'entrainement de test"
      ],
      "metadata": {
        "id": "c9KnP0Z88uFB"
      }
    },
    {
      "cell_type": "markdown",
      "source": [
        "## Centrer les données"
      ],
      "metadata": {
        "id": "h9AiExjebUUO"
      }
    },
    {
      "cell_type": "markdown",
      "source": [
        " For VGG16, call keras.applications.vgg16.preprocess_input on your inputs before passing them to the model. vgg16.preprocess_input will convert the input images from RGB to BGR, then will zero-center each color channel with respect to the ImageNet dataset, without scaling."
      ],
      "metadata": {
        "id": "L26UzyDnf-xo"
      }
    },
    {
      "cell_type": "markdown",
      "source": [
        "## Partitionner les données"
      ],
      "metadata": {
        "id": "mY3_3RVBrJiP"
      }
    },
    {
      "cell_type": "code",
      "source": [
        "from sklearn.model_selection import train_test_split\n",
        "from sklearn.linear_model import LinearRegression\n",
        "from sklearn.metrics import mean_squared_error\n",
        "X_train, X_test, y_train, y_test = train_test_split(array_features_final, array_files_labels, test_size=0.3, random_state=2020)"
      ],
      "metadata": {
        "id": "NLCsOzzg5F8G"
      },
      "execution_count": 17,
      "outputs": []
    },
    {
      "cell_type": "code",
      "source": [
        "import pandas as pd\n",
        "res = pd.DataFrame(index=[\"MSE\"])"
      ],
      "metadata": {
        "id": "rkZju-GHATnA"
      },
      "execution_count": 30,
      "outputs": []
    },
    {
      "cell_type": "markdown",
      "source": [
        "## Linear Regression"
      ],
      "metadata": {
        "id": "iYweseEKekHG"
      }
    },
    {
      "cell_type": "code",
      "source": [
        "linear_regression = LinearRegression()\n",
        "linear_regression.fit(X_train,y_train)"
      ],
      "metadata": {
        "id": "RY2QXVeCpJWW",
        "colab": {
          "base_uri": "https://localhost:8080/",
          "height": 74
        },
        "outputId": "7c2fed7d-a560-48ce-ecec-09534af4a754"
      },
      "execution_count": 19,
      "outputs": [
        {
          "output_type": "execute_result",
          "data": {
            "text/plain": [
              "LinearRegression()"
            ],
            "text/html": [
              "<style>#sk-container-id-1 {color: black;background-color: white;}#sk-container-id-1 pre{padding: 0;}#sk-container-id-1 div.sk-toggleable {background-color: white;}#sk-container-id-1 label.sk-toggleable__label {cursor: pointer;display: block;width: 100%;margin-bottom: 0;padding: 0.3em;box-sizing: border-box;text-align: center;}#sk-container-id-1 label.sk-toggleable__label-arrow:before {content: \"▸\";float: left;margin-right: 0.25em;color: #696969;}#sk-container-id-1 label.sk-toggleable__label-arrow:hover:before {color: black;}#sk-container-id-1 div.sk-estimator:hover label.sk-toggleable__label-arrow:before {color: black;}#sk-container-id-1 div.sk-toggleable__content {max-height: 0;max-width: 0;overflow: hidden;text-align: left;background-color: #f0f8ff;}#sk-container-id-1 div.sk-toggleable__content pre {margin: 0.2em;color: black;border-radius: 0.25em;background-color: #f0f8ff;}#sk-container-id-1 input.sk-toggleable__control:checked~div.sk-toggleable__content {max-height: 200px;max-width: 100%;overflow: auto;}#sk-container-id-1 input.sk-toggleable__control:checked~label.sk-toggleable__label-arrow:before {content: \"▾\";}#sk-container-id-1 div.sk-estimator input.sk-toggleable__control:checked~label.sk-toggleable__label {background-color: #d4ebff;}#sk-container-id-1 div.sk-label input.sk-toggleable__control:checked~label.sk-toggleable__label {background-color: #d4ebff;}#sk-container-id-1 input.sk-hidden--visually {border: 0;clip: rect(1px 1px 1px 1px);clip: rect(1px, 1px, 1px, 1px);height: 1px;margin: -1px;overflow: hidden;padding: 0;position: absolute;width: 1px;}#sk-container-id-1 div.sk-estimator {font-family: monospace;background-color: #f0f8ff;border: 1px dotted black;border-radius: 0.25em;box-sizing: border-box;margin-bottom: 0.5em;}#sk-container-id-1 div.sk-estimator:hover {background-color: #d4ebff;}#sk-container-id-1 div.sk-parallel-item::after {content: \"\";width: 100%;border-bottom: 1px solid gray;flex-grow: 1;}#sk-container-id-1 div.sk-label:hover label.sk-toggleable__label {background-color: #d4ebff;}#sk-container-id-1 div.sk-serial::before {content: \"\";position: absolute;border-left: 1px solid gray;box-sizing: border-box;top: 0;bottom: 0;left: 50%;z-index: 0;}#sk-container-id-1 div.sk-serial {display: flex;flex-direction: column;align-items: center;background-color: white;padding-right: 0.2em;padding-left: 0.2em;position: relative;}#sk-container-id-1 div.sk-item {position: relative;z-index: 1;}#sk-container-id-1 div.sk-parallel {display: flex;align-items: stretch;justify-content: center;background-color: white;position: relative;}#sk-container-id-1 div.sk-item::before, #sk-container-id-1 div.sk-parallel-item::before {content: \"\";position: absolute;border-left: 1px solid gray;box-sizing: border-box;top: 0;bottom: 0;left: 50%;z-index: -1;}#sk-container-id-1 div.sk-parallel-item {display: flex;flex-direction: column;z-index: 1;position: relative;background-color: white;}#sk-container-id-1 div.sk-parallel-item:first-child::after {align-self: flex-end;width: 50%;}#sk-container-id-1 div.sk-parallel-item:last-child::after {align-self: flex-start;width: 50%;}#sk-container-id-1 div.sk-parallel-item:only-child::after {width: 0;}#sk-container-id-1 div.sk-dashed-wrapped {border: 1px dashed gray;margin: 0 0.4em 0.5em 0.4em;box-sizing: border-box;padding-bottom: 0.4em;background-color: white;}#sk-container-id-1 div.sk-label label {font-family: monospace;font-weight: bold;display: inline-block;line-height: 1.2em;}#sk-container-id-1 div.sk-label-container {text-align: center;}#sk-container-id-1 div.sk-container {/* jupyter's `normalize.less` sets `[hidden] { display: none; }` but bootstrap.min.css set `[hidden] { display: none !important; }` so we also need the `!important` here to be able to override the default hidden behavior on the sphinx rendered scikit-learn.org. See: https://github.com/scikit-learn/scikit-learn/issues/21755 */display: inline-block !important;position: relative;}#sk-container-id-1 div.sk-text-repr-fallback {display: none;}</style><div id=\"sk-container-id-1\" class=\"sk-top-container\"><div class=\"sk-text-repr-fallback\"><pre>LinearRegression()</pre><b>In a Jupyter environment, please rerun this cell to show the HTML representation or trust the notebook. <br />On GitHub, the HTML representation is unable to render, please try loading this page with nbviewer.org.</b></div><div class=\"sk-container\" hidden><div class=\"sk-item\"><div class=\"sk-estimator sk-toggleable\"><input class=\"sk-toggleable__control sk-hidden--visually\" id=\"sk-estimator-id-1\" type=\"checkbox\" checked><label for=\"sk-estimator-id-1\" class=\"sk-toggleable__label sk-toggleable__label-arrow\">LinearRegression</label><div class=\"sk-toggleable__content\"><pre>LinearRegression()</pre></div></div></div></div></div>"
            ]
          },
          "metadata": {},
          "execution_count": 19
        }
      ]
    },
    {
      "cell_type": "code",
      "source": [
        "# Prédictions sur les données de test\n",
        "predictions = linear_regression.predict(X_test)\n",
        "\n",
        "# Calculer l'erreur quadratique moyenne\n",
        "mse = mean_squared_error(y_test, predictions)\n",
        "print(\"Mean Squared Error :\", mse)\n",
        "res.loc[:, \"Linear Regression\"] = (mse)"
      ],
      "metadata": {
        "id": "kNWzFFMIpjrH",
        "colab": {
          "base_uri": "https://localhost:8080/"
        },
        "outputId": "e1e80cbf-6782-419d-85e8-65d43184e22e"
      },
      "execution_count": 31,
      "outputs": [
        {
          "output_type": "stream",
          "name": "stdout",
          "text": [
            "Mean Squared Error : 16911.048102918285\n"
          ]
        }
      ]
    },
    {
      "cell_type": "markdown",
      "source": [
        "## Lasso Regression"
      ],
      "metadata": {
        "id": "9rhUbVrLepGZ"
      }
    },
    {
      "cell_type": "code",
      "source": [
        "from sklearn.linear_model import MultiTaskLasso\n",
        "lambda_lasso = 10e-3\n",
        "multitask_lasso = MultiTaskLasso(alpha=lambda_lasso*n, fit_intercept=False)\n",
        "beta_lasso = multitask_lasso.fit(X_train,y_train).coef_"
      ],
      "metadata": {
        "id": "iABAm_U1dI1Q",
        "colab": {
          "base_uri": "https://localhost:8080/"
        },
        "outputId": "b7ec31c8-5579-4d89-b8c2-22ce5ed87138"
      },
      "execution_count": 22,
      "outputs": [
        {
          "output_type": "stream",
          "name": "stdout",
          "text": [
            "(2, 25088)\n",
            "(61, 25088)\n"
          ]
        },
        {
          "output_type": "stream",
          "name": "stderr",
          "text": [
            "/usr/local/lib/python3.10/dist-packages/sklearn/linear_model/_coordinate_descent.py:2418: ConvergenceWarning: Objective did not converge. You might want to increase the number of iterations. Duality gap: 25864.255859375, tolerance: 7817.95654296875\n",
            "  ) = cd_fast.enet_coordinate_descent_multi_task(\n"
          ]
        }
      ]
    },
    {
      "cell_type": "code",
      "source": [
        "# Prédictions sur les données de test\n",
        "predictions_lasso = multitask_lasso.predict(X_test)\n",
        "\n",
        "# Calculer l'erreur quadratique moyenne\n",
        "mse_lasso = mean_squared_error(y_test, predictions_lasso)\n",
        "print(\"Mean Squared Error :\", mse_lasso)\n",
        "res.loc[:, \"Lasso Regression\"] = (mse_lasso)"
      ],
      "metadata": {
        "colab": {
          "base_uri": "https://localhost:8080/"
        },
        "id": "9PjoRXBZxJKU",
        "outputId": "f0a9325a-1cf3-49c4-9a85-9b2ae5b9f40e"
      },
      "execution_count": 33,
      "outputs": [
        {
          "output_type": "stream",
          "name": "stdout",
          "text": [
            "Mean Squared Error : 185016.43783221586\n"
          ]
        }
      ]
    },
    {
      "cell_type": "markdown",
      "source": [
        "## Ridge Regression"
      ],
      "metadata": {
        "id": "Oz2p3oy7emV6"
      }
    },
    {
      "cell_type": "code",
      "source": [
        "from sklearn.linear_model import Ridge\n",
        "\n",
        "ridge = Ridge()\n",
        "ridge.fit(X_train,y_train)\n",
        "\n",
        "# Prédictions sur les données de test\n",
        "predictions_ridge = ridge.predict(X_test)\n",
        "\n",
        "# Calculer l'erreur quadratique moyenne\n",
        "mse_ridge = mean_squared_error(y_test, predictions_ridge)\n",
        "print(\"Mean Squared Error :\", mse_ridge)\n",
        "res.loc[:, \"Ridge Regression\"] = (mse_ridge)"
      ],
      "metadata": {
        "id": "iz0w5i_ErfwC",
        "colab": {
          "base_uri": "https://localhost:8080/"
        },
        "outputId": "06b35047-f6ad-4e7a-a8a7-ed8318d3dc60"
      },
      "execution_count": 32,
      "outputs": [
        {
          "output_type": "stream",
          "name": "stdout",
          "text": [
            "Mean Squared Error : 16977.816894983032\n"
          ]
        }
      ]
    },
    {
      "cell_type": "markdown",
      "source": [
        "## Elastic Net"
      ],
      "metadata": {
        "id": "73KDFfrnC-Cb"
      }
    },
    {
      "cell_type": "code",
      "source": [
        "from sklearn.linear_model import MultiTaskElasticNet\n",
        "\n",
        "MTelasticnet = MultiTaskElasticNetCV()\n",
        "MTelasticnet.fit(X_train,y_train)\n",
        "\n",
        "# Prédictions sur les données de test\n",
        "predictions_MTElasticnet = MTelasticnet.predict(X_test)\n",
        "\n",
        "# Calculer l'erreur quadratique moyenne\n",
        "mse_MTEN = mean_squared_error(y_test, predictions_MTElasticnet)\n",
        "print(\"Mean Squared Error :\", mse_MTEN)\n",
        "res.loc[:, \"ElasticNet\"] = (mse_MTEN)"
      ],
      "metadata": {
        "colab": {
          "base_uri": "https://localhost:8080/"
        },
        "id": "xkqae9THC_QB",
        "outputId": "d86360a8-40c8-470c-ce1d-297a1402d1a1"
      },
      "execution_count": 34,
      "outputs": [
        {
          "output_type": "stream",
          "name": "stdout",
          "text": [
            "Mean Squared Error : 16155.857241171932\n"
          ]
        },
        {
          "output_type": "stream",
          "name": "stderr",
          "text": [
            "/usr/local/lib/python3.10/dist-packages/sklearn/linear_model/_coordinate_descent.py:2418: ConvergenceWarning: Objective did not converge. You might want to increase the number of iterations. Duality gap: 18130.291015625, tolerance: 2353.7734375\n",
            "  ) = cd_fast.enet_coordinate_descent_multi_task(\n"
          ]
        }
      ]
    },
    {
      "cell_type": "markdown",
      "source": [
        "# Etape 3 : Améliorer le modèle avec du cross-validation/GridSearchCV"
      ],
      "metadata": {
        "id": "Od7fwy0UYe0o"
      }
    },
    {
      "cell_type": "markdown",
      "source": [
        "### LinearRegression CV"
      ],
      "metadata": {
        "id": "W0vX9OYZxsap"
      }
    },
    {
      "cell_type": "code",
      "source": [
        "from sklearn.model_selection import cross_val_predict, GridSearchCV\n",
        "from sklearn.pipeline import Pipeline\n",
        "\n",
        "pipe_linear = Pipeline([(\"linear\", LinearRegression())])\n",
        "param_grids = {}\n",
        "search_linear = GridSearchCV(pipe_linear,param_grids,n_jobs=2,cv=20)\n",
        "search_linear.fit(X_train, y_train)\n",
        "predictions_linear = search_linear.predict(X_test)\n",
        "# Calculer l'erreur quadratique moyenne\n",
        "mse_linear_cv = mean_squared_error(y_test, predictions_linear)\n",
        "print(\"Mean Squared Error :\", mse_linear_cv)\n",
        "res.loc[:, \"Linear Regression CV\"] = (mse_linear_cv)"
      ],
      "metadata": {
        "colab": {
          "base_uri": "https://localhost:8080/"
        },
        "id": "ksloOjyXxt76",
        "outputId": "f5f24fd0-bf1b-45ae-8c61-4279428846c6"
      },
      "execution_count": 36,
      "outputs": [
        {
          "output_type": "stream",
          "name": "stdout",
          "text": [
            "Mean Squared Error : 16911.048102918285\n"
          ]
        }
      ]
    },
    {
      "cell_type": "markdown",
      "source": [
        "### LassoMultiTaskCV"
      ],
      "metadata": {
        "id": "eYNpqrNHxQsP"
      }
    },
    {
      "cell_type": "markdown",
      "source": [
        "Plusieurs alphas"
      ],
      "metadata": {
        "id": "ghpAfJrKxlQI"
      }
    },
    {
      "cell_type": "code",
      "source": [
        "from sklearn.linear_model import MultiTaskLassoCV\n",
        "alphas = np.logspace(-6, 6, 13)\n",
        "MTLassoCV = MultiTaskLassoCV(alphas=alphas,max_iter=3000)\n",
        "MTLassoCV.fit(X_train,y_train)\n",
        "\n",
        "# Prédictions sur les données de test\n",
        "predictions_MTLassoCV = MTLassoCV.predict(X_test)\n",
        "\n",
        "# Calculer l'erreur quadratique moyenne\n",
        "mse_MTLCV = mean_squared_error(y_test, predictions_MTLassoCV)\n",
        "print(\"Mean Squared Error :\", mse_MTLCV)\n",
        "res.loc[:, \"Lasso MultiTask CV\"] = (mse_MTLCV)"
      ],
      "metadata": {
        "id": "w6j1gvF540aN",
        "colab": {
          "base_uri": "https://localhost:8080/"
        },
        "outputId": "bd4d73ee-38b6-4107-f190-235a3c03f231"
      },
      "execution_count": 35,
      "outputs": [
        {
          "output_type": "stream",
          "name": "stdout",
          "text": [
            "Mean Squared Error : 18156.472349386004\n"
          ]
        }
      ]
    },
    {
      "cell_type": "markdown",
      "source": [
        "### RidgeRegressionCV"
      ],
      "metadata": {
        "id": "BIUZq61ixvhU"
      }
    },
    {
      "cell_type": "code",
      "source": [
        "from sklearn.linear_model import RidgeCV\n",
        "\n",
        "ridgeCV = RidgeCV(cv=20)\n",
        "ridgeCV.fit(X_train,y_train)\n",
        "\n",
        "# Prédictions sur les données de test\n",
        "predictions_ridgeCV = ridgeCV.predict(X_test)\n",
        "\n",
        "# Calculer l'erreur quadratique moyenne\n",
        "mse_ridgeCV = mean_squared_error(y_test, predictions_ridgeCV)\n",
        "print(\"Mean Squared Error :\", mse_ridgeCV)\n",
        "res.loc[:, \"Ridge Regression CV\"] = (mse_ridgeCV)"
      ],
      "metadata": {
        "colab": {
          "base_uri": "https://localhost:8080/"
        },
        "id": "Hr5nWuJOxylR",
        "outputId": "4925cf74-4024-4ddb-d621-3ab2405f5047"
      },
      "execution_count": 37,
      "outputs": [
        {
          "output_type": "stream",
          "name": "stderr",
          "text": [
            "/usr/local/lib/python3.10/dist-packages/sklearn/linear_model/_ridge.py:253: LinAlgWarning: Ill-conditioned matrix (rcond=8.13225e-09): result may not be accurate.\n",
            "  dual_coef = linalg.solve(K, y, assume_a=\"pos\", overwrite_a=False)\n",
            "/usr/local/lib/python3.10/dist-packages/sklearn/linear_model/_ridge.py:255: UserWarning: Singular matrix in solving dual problem. Using least-squares solution instead.\n",
            "  warnings.warn(\n",
            "/usr/local/lib/python3.10/dist-packages/sklearn/linear_model/_ridge.py:255: UserWarning: Singular matrix in solving dual problem. Using least-squares solution instead.\n",
            "  warnings.warn(\n",
            "/usr/local/lib/python3.10/dist-packages/sklearn/linear_model/_ridge.py:255: UserWarning: Singular matrix in solving dual problem. Using least-squares solution instead.\n",
            "  warnings.warn(\n",
            "/usr/local/lib/python3.10/dist-packages/sklearn/linear_model/_ridge.py:255: UserWarning: Singular matrix in solving dual problem. Using least-squares solution instead.\n",
            "  warnings.warn(\n",
            "/usr/local/lib/python3.10/dist-packages/sklearn/linear_model/_ridge.py:255: UserWarning: Singular matrix in solving dual problem. Using least-squares solution instead.\n",
            "  warnings.warn(\n",
            "/usr/local/lib/python3.10/dist-packages/sklearn/linear_model/_ridge.py:255: UserWarning: Singular matrix in solving dual problem. Using least-squares solution instead.\n",
            "  warnings.warn(\n",
            "/usr/local/lib/python3.10/dist-packages/sklearn/linear_model/_ridge.py:255: UserWarning: Singular matrix in solving dual problem. Using least-squares solution instead.\n",
            "  warnings.warn(\n",
            "/usr/local/lib/python3.10/dist-packages/sklearn/linear_model/_ridge.py:255: UserWarning: Singular matrix in solving dual problem. Using least-squares solution instead.\n",
            "  warnings.warn(\n",
            "/usr/local/lib/python3.10/dist-packages/sklearn/linear_model/_ridge.py:255: UserWarning: Singular matrix in solving dual problem. Using least-squares solution instead.\n",
            "  warnings.warn(\n",
            "/usr/local/lib/python3.10/dist-packages/sklearn/linear_model/_ridge.py:255: UserWarning: Singular matrix in solving dual problem. Using least-squares solution instead.\n",
            "  warnings.warn(\n",
            "/usr/local/lib/python3.10/dist-packages/sklearn/linear_model/_ridge.py:255: UserWarning: Singular matrix in solving dual problem. Using least-squares solution instead.\n",
            "  warnings.warn(\n",
            "/usr/local/lib/python3.10/dist-packages/sklearn/linear_model/_ridge.py:255: UserWarning: Singular matrix in solving dual problem. Using least-squares solution instead.\n",
            "  warnings.warn(\n",
            "/usr/local/lib/python3.10/dist-packages/sklearn/linear_model/_ridge.py:255: UserWarning: Singular matrix in solving dual problem. Using least-squares solution instead.\n",
            "  warnings.warn(\n",
            "/usr/local/lib/python3.10/dist-packages/sklearn/linear_model/_ridge.py:255: UserWarning: Singular matrix in solving dual problem. Using least-squares solution instead.\n",
            "  warnings.warn(\n",
            "/usr/local/lib/python3.10/dist-packages/sklearn/linear_model/_ridge.py:255: UserWarning: Singular matrix in solving dual problem. Using least-squares solution instead.\n",
            "  warnings.warn(\n",
            "/usr/local/lib/python3.10/dist-packages/sklearn/linear_model/_ridge.py:255: UserWarning: Singular matrix in solving dual problem. Using least-squares solution instead.\n",
            "  warnings.warn(\n",
            "/usr/local/lib/python3.10/dist-packages/sklearn/linear_model/_ridge.py:255: UserWarning: Singular matrix in solving dual problem. Using least-squares solution instead.\n",
            "  warnings.warn(\n",
            "/usr/local/lib/python3.10/dist-packages/sklearn/linear_model/_ridge.py:255: UserWarning: Singular matrix in solving dual problem. Using least-squares solution instead.\n",
            "  warnings.warn(\n",
            "/usr/local/lib/python3.10/dist-packages/sklearn/linear_model/_ridge.py:255: UserWarning: Singular matrix in solving dual problem. Using least-squares solution instead.\n",
            "  warnings.warn(\n"
          ]
        },
        {
          "output_type": "stream",
          "name": "stdout",
          "text": [
            "Mean Squared Error : 16977.80848088926\n"
          ]
        },
        {
          "output_type": "stream",
          "name": "stderr",
          "text": [
            "/usr/local/lib/python3.10/dist-packages/sklearn/linear_model/_ridge.py:253: LinAlgWarning: Ill-conditioned matrix (rcond=4.16342e-09): result may not be accurate.\n",
            "  dual_coef = linalg.solve(K, y, assume_a=\"pos\", overwrite_a=False)\n"
          ]
        }
      ]
    },
    {
      "cell_type": "markdown",
      "source": [
        "### Multitask ElasticNet"
      ],
      "metadata": {
        "id": "LjOisgzqXrj6"
      }
    },
    {
      "cell_type": "code",
      "source": [
        "from sklearn.linear_model import MultiTaskElasticNetCV\n",
        "\n",
        "MTelasticnetCV = MultiTaskElasticNetCV(alphas=[lambda_lasso*n])\n",
        "MTelasticnetCV.fit(X_train,y_train)\n",
        "\n",
        "# Prédictions sur les données de test\n",
        "predictions_MTElasticnetCV = MTelasticnetCV.predict(X_test)\n",
        "\n",
        "# Calculer l'erreur quadratique moyenne\n",
        "mse_MTENCV = mean_squared_error(y_test, predictions_MTElasticnetCV)\n",
        "print(\"Mean Squared Error :\", mse_MTENCV)\n",
        "res.loc[:, \"Elastic Net Regression\"] = (mse_MTENCV)"
      ],
      "metadata": {
        "colab": {
          "base_uri": "https://localhost:8080/"
        },
        "id": "qE_e-LCoxN3b",
        "outputId": "c43d4691-7280-4e58-d01d-a02699dedaa1"
      },
      "execution_count": 24,
      "outputs": [
        {
          "output_type": "stream",
          "name": "stderr",
          "text": [
            "/usr/local/lib/python3.10/dist-packages/sklearn/linear_model/_coordinate_descent.py:609: ConvergenceWarning: Objective did not converge. You might want to increase the number of iterations. Duality gap: 7910.98486328125, tolerance: 1814.4599609375\n",
            "  model = cd_fast.enet_coordinate_descent_multi_task(\n",
            "/usr/local/lib/python3.10/dist-packages/sklearn/linear_model/_coordinate_descent.py:609: ConvergenceWarning: Objective did not converge. You might want to increase the number of iterations. Duality gap: 7986.6142578125, tolerance: 1863.449951171875\n",
            "  model = cd_fast.enet_coordinate_descent_multi_task(\n",
            "/usr/local/lib/python3.10/dist-packages/sklearn/linear_model/_coordinate_descent.py:609: ConvergenceWarning: Objective did not converge. You might want to increase the number of iterations. Duality gap: 8134.27294921875, tolerance: 1862.1787109375\n",
            "  model = cd_fast.enet_coordinate_descent_multi_task(\n",
            "/usr/local/lib/python3.10/dist-packages/sklearn/linear_model/_coordinate_descent.py:609: ConvergenceWarning: Objective did not converge. You might want to increase the number of iterations. Duality gap: 8447.8369140625, tolerance: 1988.4013671875\n",
            "  model = cd_fast.enet_coordinate_descent_multi_task(\n",
            "/usr/local/lib/python3.10/dist-packages/sklearn/linear_model/_coordinate_descent.py:609: ConvergenceWarning: Objective did not converge. You might want to increase the number of iterations. Duality gap: 8135.9580078125, tolerance: 1853.3544921875\n",
            "  model = cd_fast.enet_coordinate_descent_multi_task(\n"
          ]
        },
        {
          "output_type": "stream",
          "name": "stdout",
          "text": [
            "Mean Squared Error : 85200.2744435561\n"
          ]
        },
        {
          "output_type": "stream",
          "name": "stderr",
          "text": [
            "/usr/local/lib/python3.10/dist-packages/sklearn/linear_model/_coordinate_descent.py:2418: ConvergenceWarning: Objective did not converge. You might want to increase the number of iterations. Duality gap: 10228.0849609375, tolerance: 2353.7734375\n",
            "  ) = cd_fast.enet_coordinate_descent_multi_task(\n"
          ]
        }
      ]
    },
    {
      "cell_type": "markdown",
      "source": [
        "# Etape 4 : Comparer les différentes mesures de précision"
      ],
      "metadata": {
        "id": "m9us_LHPYt72"
      }
    },
    {
      "cell_type": "code",
      "source": [
        "res"
      ],
      "metadata": {
        "colab": {
          "base_uri": "https://localhost:8080/",
          "height": 98
        },
        "id": "NTuDKokW-aEi",
        "outputId": "d8185707-3ead-42ff-b027-ff2afa38fd2a"
      },
      "execution_count": 38,
      "outputs": [
        {
          "output_type": "execute_result",
          "data": {
            "text/plain": [
              "     Linear Regression  Ridge Regression  Lasso Regression  \\\n",
              "MSE       16911.048103      16977.816895     185016.437832   \n",
              "\n",
              "     Lasso MultiTask CV  Linear Regression CV  Ridge Regression CV  \n",
              "MSE        18156.472349          16911.048103         16977.808481  "
            ],
            "text/html": [
              "\n",
              "  <div id=\"df-8f150ab2-f985-4182-a0e2-5d0ff4b8cf4d\" class=\"colab-df-container\">\n",
              "    <div>\n",
              "<style scoped>\n",
              "    .dataframe tbody tr th:only-of-type {\n",
              "        vertical-align: middle;\n",
              "    }\n",
              "\n",
              "    .dataframe tbody tr th {\n",
              "        vertical-align: top;\n",
              "    }\n",
              "\n",
              "    .dataframe thead th {\n",
              "        text-align: right;\n",
              "    }\n",
              "</style>\n",
              "<table border=\"1\" class=\"dataframe\">\n",
              "  <thead>\n",
              "    <tr style=\"text-align: right;\">\n",
              "      <th></th>\n",
              "      <th>Linear Regression</th>\n",
              "      <th>Ridge Regression</th>\n",
              "      <th>Lasso Regression</th>\n",
              "      <th>Lasso MultiTask CV</th>\n",
              "      <th>Linear Regression CV</th>\n",
              "      <th>Ridge Regression CV</th>\n",
              "    </tr>\n",
              "  </thead>\n",
              "  <tbody>\n",
              "    <tr>\n",
              "      <th>MSE</th>\n",
              "      <td>16911.048103</td>\n",
              "      <td>16977.816895</td>\n",
              "      <td>185016.437832</td>\n",
              "      <td>18156.472349</td>\n",
              "      <td>16911.048103</td>\n",
              "      <td>16977.808481</td>\n",
              "    </tr>\n",
              "  </tbody>\n",
              "</table>\n",
              "</div>\n",
              "    <div class=\"colab-df-buttons\">\n",
              "\n",
              "  <div class=\"colab-df-container\">\n",
              "    <button class=\"colab-df-convert\" onclick=\"convertToInteractive('df-8f150ab2-f985-4182-a0e2-5d0ff4b8cf4d')\"\n",
              "            title=\"Convert this dataframe to an interactive table.\"\n",
              "            style=\"display:none;\">\n",
              "\n",
              "  <svg xmlns=\"http://www.w3.org/2000/svg\" height=\"24px\" viewBox=\"0 -960 960 960\">\n",
              "    <path d=\"M120-120v-720h720v720H120Zm60-500h600v-160H180v160Zm220 220h160v-160H400v160Zm0 220h160v-160H400v160ZM180-400h160v-160H180v160Zm440 0h160v-160H620v160ZM180-180h160v-160H180v160Zm440 0h160v-160H620v160Z\"/>\n",
              "  </svg>\n",
              "    </button>\n",
              "\n",
              "  <style>\n",
              "    .colab-df-container {\n",
              "      display:flex;\n",
              "      gap: 12px;\n",
              "    }\n",
              "\n",
              "    .colab-df-convert {\n",
              "      background-color: #E8F0FE;\n",
              "      border: none;\n",
              "      border-radius: 50%;\n",
              "      cursor: pointer;\n",
              "      display: none;\n",
              "      fill: #1967D2;\n",
              "      height: 32px;\n",
              "      padding: 0 0 0 0;\n",
              "      width: 32px;\n",
              "    }\n",
              "\n",
              "    .colab-df-convert:hover {\n",
              "      background-color: #E2EBFA;\n",
              "      box-shadow: 0px 1px 2px rgba(60, 64, 67, 0.3), 0px 1px 3px 1px rgba(60, 64, 67, 0.15);\n",
              "      fill: #174EA6;\n",
              "    }\n",
              "\n",
              "    .colab-df-buttons div {\n",
              "      margin-bottom: 4px;\n",
              "    }\n",
              "\n",
              "    [theme=dark] .colab-df-convert {\n",
              "      background-color: #3B4455;\n",
              "      fill: #D2E3FC;\n",
              "    }\n",
              "\n",
              "    [theme=dark] .colab-df-convert:hover {\n",
              "      background-color: #434B5C;\n",
              "      box-shadow: 0px 1px 3px 1px rgba(0, 0, 0, 0.15);\n",
              "      filter: drop-shadow(0px 1px 2px rgba(0, 0, 0, 0.3));\n",
              "      fill: #FFFFFF;\n",
              "    }\n",
              "  </style>\n",
              "\n",
              "    <script>\n",
              "      const buttonEl =\n",
              "        document.querySelector('#df-8f150ab2-f985-4182-a0e2-5d0ff4b8cf4d button.colab-df-convert');\n",
              "      buttonEl.style.display =\n",
              "        google.colab.kernel.accessAllowed ? 'block' : 'none';\n",
              "\n",
              "      async function convertToInteractive(key) {\n",
              "        const element = document.querySelector('#df-8f150ab2-f985-4182-a0e2-5d0ff4b8cf4d');\n",
              "        const dataTable =\n",
              "          await google.colab.kernel.invokeFunction('convertToInteractive',\n",
              "                                                    [key], {});\n",
              "        if (!dataTable) return;\n",
              "\n",
              "        const docLinkHtml = 'Like what you see? Visit the ' +\n",
              "          '<a target=\"_blank\" href=https://colab.research.google.com/notebooks/data_table.ipynb>data table notebook</a>'\n",
              "          + ' to learn more about interactive tables.';\n",
              "        element.innerHTML = '';\n",
              "        dataTable['output_type'] = 'display_data';\n",
              "        await google.colab.output.renderOutput(dataTable, element);\n",
              "        const docLink = document.createElement('div');\n",
              "        docLink.innerHTML = docLinkHtml;\n",
              "        element.appendChild(docLink);\n",
              "      }\n",
              "    </script>\n",
              "  </div>\n",
              "\n",
              "    </div>\n",
              "  </div>\n"
            ]
          },
          "metadata": {},
          "execution_count": 38
        }
      ]
    },
    {
      "cell_type": "markdown",
      "source": [
        "La meilleure méthode est :"
      ],
      "metadata": {
        "id": "DZwWM0DaIHxW"
      }
    },
    {
      "cell_type": "code",
      "source": [
        "print(res.min(axis=1))\n",
        "print(res.idxmin(axis=1))"
      ],
      "metadata": {
        "colab": {
          "base_uri": "https://localhost:8080/"
        },
        "id": "ODuAPhECHJSM",
        "outputId": "0ae4b182-45bd-4fd6-a902-33b738469062"
      },
      "execution_count": 46,
      "outputs": [
        {
          "output_type": "stream",
          "name": "stdout",
          "text": [
            "MSE    16911.048103\n",
            "dtype: float64\n",
            "MSE    Linear Regression\n",
            "dtype: object\n"
          ]
        }
      ]
    }
  ]
}