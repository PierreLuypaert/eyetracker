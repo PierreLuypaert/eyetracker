{
  "nbformat": 4,
  "nbformat_minor": 0,
  "metadata": {
    "colab": {
      "provenance": [],
      "toc_visible": true
    },
    "kernelspec": {
      "name": "python3",
      "display_name": "Python 3"
    },
    "language_info": {
      "name": "python"
    }
  },
  "cells": [
    {
      "cell_type": "code",
      "source": [
        "import numpy as np\n",
        "from numpy.random import permutation\n",
        "import time\n",
        "import pandas as pd\n",
        "import matplotlib.pyplot as plt\n",
        "fw, fh = plt.rcParams[\"figure.figsize\"]\n",
        "from sklearn.datasets import fetch_openml\n",
        "from sklearn.decomposition import PCA\n",
        "from sklearn.discriminant_analysis import LinearDiscriminantAnalysis\n",
        "from sklearn.metrics import silhouette_score, calinski_harabasz_score\n",
        "import sklearn.model_selection\n"
      ],
      "metadata": {
        "id": "dHlmKl90YUf-"
      },
      "execution_count": 2,
      "outputs": []
    },
    {
      "cell_type": "markdown",
      "source": [
        "# Etape 0 : Récupérer les données"
      ],
      "metadata": {
        "id": "5wsM9JB5ZHzN"
      }
    },
    {
      "cell_type": "markdown",
      "source": [
        "Pierre a généré le dataset et l'a annoté de labels qui correspondent au pixel où il regarde. On a donc en x ??? et en y un tuple d'integer qui correspondent respectivement à la coordonnée x et la coordonnée y. La matrice est sparse."
      ],
      "metadata": {
        "id": "LOWLXq7xZJsG"
      }
    },
    {
      "cell_type": "markdown",
      "source": [
        "Accès au Google Drive"
      ],
      "metadata": {
        "id": "zj-7NadczV_O"
      }
    },
    {
      "cell_type": "code",
      "source": [
        "from google.colab import drive\n",
        "drive.mount('/content/drive')"
      ],
      "metadata": {
        "id": "loSFjpm-esHh",
        "colab": {
          "base_uri": "https://localhost:8080/"
        },
        "outputId": "8ac13de4-2caf-47fc-f6b2-95a70ab883bb"
      },
      "execution_count": 4,
      "outputs": [
        {
          "output_type": "stream",
          "name": "stdout",
          "text": [
            "Drive already mounted at /content/drive; to attempt to forcibly remount, call drive.mount(\"/content/drive\", force_remount=True).\n"
          ]
        }
      ]
    },
    {
      "cell_type": "code",
      "source": [
        "path = \"/content/drive/MyDrive/Travail/eyes_detection/\""
      ],
      "metadata": {
        "id": "0i_UpFigx1-b"
      },
      "execution_count": 5,
      "outputs": []
    },
    {
      "cell_type": "markdown",
      "source": [
        "Lecture des fichiers textes"
      ],
      "metadata": {
        "id": "OPs_ETtFzYW0"
      }
    },
    {
      "cell_type": "code",
      "source": [
        "array_files = []\n",
        "for i in range(1,65):\n",
        "  file_path = path + \"pixels_faces_\"+str(i)+\".txt\"\n",
        "  file_tmp = open(file_path, \"r\")\n",
        "  array_files.append(file_tmp.read())"
      ],
      "metadata": {
        "id": "HALSq-cWyOrS"
      },
      "execution_count": 6,
      "outputs": []
    },
    {
      "cell_type": "markdown",
      "source": [
        "Vérification qu'on a lu tous les fichiers"
      ],
      "metadata": {
        "id": "Md4IfYGa0CpT"
      }
    },
    {
      "cell_type": "code",
      "source": [
        "print(np.shape(array_files))\n",
        "n = np.shape(array_files)[0]\n",
        "print(n)"
      ],
      "metadata": {
        "colab": {
          "base_uri": "https://localhost:8080/"
        },
        "id": "jZbX6V6I0EjR",
        "outputId": "dcbbcb4c-1741-40b2-c352-4535ef8147a1"
      },
      "execution_count": 7,
      "outputs": [
        {
          "output_type": "stream",
          "name": "stdout",
          "text": [
            "(64,)\n",
            "64\n"
          ]
        }
      ]
    },
    {
      "cell_type": "markdown",
      "source": [
        "Conversion en liste de chaque fichier texte"
      ],
      "metadata": {
        "id": "WPNXraWo0JU-"
      }
    },
    {
      "cell_type": "code",
      "source": [
        "list_files = []\n",
        "for i in range (1,np.shape(array_files)[0]):\n",
        "  file_array = [int(position) if position.isdigit() else position for position in array_files[i].split(',')]\n",
        "  list_files.append(file_array)"
      ],
      "metadata": {
        "id": "C5HJz5koy-mF"
      },
      "execution_count": 8,
      "outputs": []
    },
    {
      "cell_type": "markdown",
      "source": [
        "Vérification"
      ],
      "metadata": {
        "id": "wsPkytBh0wJh"
      }
    },
    {
      "cell_type": "code",
      "source": [
        "print(np.shape(list_files[50]))"
      ],
      "metadata": {
        "colab": {
          "base_uri": "https://localhost:8080/"
        },
        "id": "hZ4STlyo0xyE",
        "outputId": "34dc343a-b6a3-4eb0-ce40-c2e2e6558c78"
      },
      "execution_count": 9,
      "outputs": [
        {
          "output_type": "stream",
          "name": "stdout",
          "text": [
            "(19901,)\n"
          ]
        }
      ]
    },
    {
      "cell_type": "markdown",
      "source": [
        "Lecture des labels y"
      ],
      "metadata": {
        "id": "GGeui5pz5Yh4"
      }
    },
    {
      "cell_type": "markdown",
      "source": [
        "Le label doit être transformé en tuple de string pour qu'on puisse ensuite créer les sets d'apprentissages et de tests. On doit avoir à la fin y qui est une liste de tuple mais de dimensions 1 pour le training et le test set."
      ],
      "metadata": {
        "id": "CdqwdzqFtlwA"
      }
    },
    {
      "cell_type": "code",
      "source": [
        "from ast import literal_eval\n",
        "file_path = path + \"points_increment_1.txt\"\n",
        "file_tmp = open(file_path, \"r\")\n",
        "tmp = (literal_eval(file_tmp.read()))"
      ],
      "metadata": {
        "id": "LCinyUs8wWw3"
      },
      "execution_count": 22,
      "outputs": []
    },
    {
      "cell_type": "code",
      "source": [
        "array_files_labels = []\n",
        "for i in range(1,n+1):\n",
        "  file_path = path + \"points_increment_\"+str(i)+\".txt\"\n",
        "  file_tmp = open(file_path, \"r\")\n",
        "  array_files_labels.append(list(literal_eval(file_tmp.read())))"
      ],
      "metadata": {
        "id": "7XF-v4EG5_b1"
      },
      "execution_count": 23,
      "outputs": []
    },
    {
      "cell_type": "code",
      "source": [
        "print(type(array_files_labels[0]))\n",
        "print(array_files_labels[0])\n",
        "print(np.shape(array_files_labels))"
      ],
      "metadata": {
        "colab": {
          "base_uri": "https://localhost:8080/"
        },
        "id": "qehMAFYqtNbQ",
        "outputId": "03151a80-3d24-4eb5-d7a1-60d144870139"
      },
      "execution_count": 24,
      "outputs": [
        {
          "output_type": "stream",
          "name": "stdout",
          "text": [
            "<class 'list'>\n",
            "[536, 44]\n",
            "(88, 2)\n"
          ]
        }
      ]
    },
    {
      "cell_type": "markdown",
      "source": [
        "Vérification qu'on a bien tout les labels"
      ],
      "metadata": {
        "id": "wrn73Yih7GKg"
      }
    },
    {
      "cell_type": "code",
      "source": [
        "print(np.shape(array_files_labels))\n",
        "\n",
        "if np.shape(array_files_labels)[0] == n:\n",
        "  print(\"Ok\")\n",
        "else:\n",
        "  print(\"Le nombre de labels n'est pas le bon.\")"
      ],
      "metadata": {
        "colab": {
          "base_uri": "https://localhost:8080/"
        },
        "id": "VwzytObL7IEG",
        "outputId": "ca62d757-c6a0-4ef2-fdc6-fbd45ac2be7a"
      },
      "execution_count": 25,
      "outputs": [
        {
          "output_type": "stream",
          "name": "stdout",
          "text": [
            "(88, 2)\n",
            "Ok\n"
          ]
        }
      ]
    },
    {
      "cell_type": "markdown",
      "source": [
        "On a le bon nombre d'image et de labels, les données d'entrée sont correctes."
      ],
      "metadata": {
        "id": "NZ_YAMYI8B73"
      }
    },
    {
      "cell_type": "markdown",
      "source": [
        "# Etape 1 : Réduction des données"
      ],
      "metadata": {
        "id": "AFbb0nUjWJB8"
      }
    },
    {
      "cell_type": "markdown",
      "source": [
        "C'est pas mal de réduire les données parce qu'une image, ça prend de la place. On gagnerait en temps de calcul mais on perdrait peut être en précision. Il faut voir combien de dimensions on garde. Après, si l'image est en noir et blanc, nous aurons déjà 2 dimensions."
      ],
      "metadata": {
        "id": "c3FeLdLIZShF"
      }
    },
    {
      "cell_type": "markdown",
      "source": [
        "Parmi les réductions de dimensions, t-SNE et Umap sont les meilleures (voir APPC-CM11)"
      ],
      "metadata": {
        "id": "1bSXQ7p0ZibO"
      }
    },
    {
      "cell_type": "markdown",
      "source": [
        "# Etape 2 : Le modèle d'apprentissage"
      ],
      "metadata": {
        "id": "tYdRl67vYcGL"
      }
    },
    {
      "cell_type": "markdown",
      "source": [
        "On a un problème de régression car il doit prédire parmi un nombre suffisament grand de classes pour qu'on considère qu'il est infini."
      ],
      "metadata": {
        "id": "3O_jvEX9eedT"
      }
    },
    {
      "cell_type": "markdown",
      "source": [
        "On va utiliser du deep learning pour extraire les caractéristiques et au lieu d'avoir la couche de décision, on remplace cette couche par notre modèle en machine learning de régression."
      ],
      "metadata": {
        "id": "zjpvHY-lnIhc"
      }
    },
    {
      "cell_type": "markdown",
      "source": [
        "## Extraction des caractéristiques avec le réseau de neurones"
      ],
      "metadata": {
        "id": "lecihoRIeTMp"
      }
    },
    {
      "cell_type": "markdown",
      "source": [
        "Import des biblio"
      ],
      "metadata": {
        "id": "2tPqezR60RV_"
      }
    },
    {
      "cell_type": "code",
      "source": [
        "from tensorflow.keras.applications.vgg16 import VGG16\n",
        "from tensorflow.keras.preprocessing import image\n",
        "from tensorflow.keras.applications.vgg16 import preprocess_input\n",
        "import numpy as np"
      ],
      "metadata": {
        "id": "1sThEtMDsLUU"
      },
      "execution_count": 12,
      "outputs": []
    },
    {
      "cell_type": "markdown",
      "source": [
        "Création du modèle VGG16 déjà pré entrainé sur un problème de classification (à voir pour trouver un modèle de régression ?)"
      ],
      "metadata": {
        "id": "upGDONI60Sw0"
      }
    },
    {
      "cell_type": "code",
      "source": [
        "model = VGG16(weights='imagenet', include_top=False)"
      ],
      "metadata": {
        "id": "oGiAbrYDzGz8",
        "colab": {
          "base_uri": "https://localhost:8080/"
        },
        "outputId": "e292edb7-8b5d-484e-87fc-a23288f6c083"
      },
      "execution_count": 13,
      "outputs": [
        {
          "output_type": "stream",
          "name": "stdout",
          "text": [
            "Downloading data from https://storage.googleapis.com/tensorflow/keras-applications/vgg16/vgg16_weights_tf_dim_ordering_tf_kernels_notop.h5\n",
            "58889256/58889256 [==============================] - 0s 0us/step\n"
          ]
        }
      ]
    },
    {
      "cell_type": "markdown",
      "source": [
        "Définition du nombre d'images"
      ],
      "metadata": {
        "id": "MgxB_Bp_7eg-"
      }
    },
    {
      "cell_type": "code",
      "source": [
        "n = 88"
      ],
      "metadata": {
        "id": "0aPnlahl7hHX"
      },
      "execution_count": 14,
      "outputs": []
    },
    {
      "cell_type": "markdown",
      "source": [
        "Extraction des features (1min)\n",
        "\n",
        "https://keras.io/api/applications/#extract-features-with-vgg16"
      ],
      "metadata": {
        "id": "DuG0wGwd0ilE"
      }
    },
    {
      "cell_type": "code",
      "source": [
        "array_features = []\n",
        "for i in range(1,n+1):\n",
        "  img_path = path + \"eyes_\"+ str(i)+\".png\"\n",
        "  #vérifiez pour la target-size à quoi ça correspond\n",
        "  img = image.load_img(img_path, target_size=(224, 224))\n",
        "  x = image.img_to_array(img)\n",
        "  x = np.expand_dims(x, axis=0)\n",
        "  x = preprocess_input(x)\n",
        "  #Extraction des features\n",
        "  features = model.predict(x)\n",
        "  #On crée un tableau pour y stocker chaque feature d'image\n",
        "  array_features.append(features)"
      ],
      "metadata": {
        "colab": {
          "base_uri": "https://localhost:8080/"
        },
        "id": "jY544DzJ2b6l",
        "outputId": "c0e19d3d-a638-4dc0-9cf5-0d62ab3a48d8"
      },
      "execution_count": 15,
      "outputs": [
        {
          "output_type": "stream",
          "name": "stdout",
          "text": [
            "1/1 [==============================] - 1s 1s/step\n",
            "1/1 [==============================] - 1s 533ms/step\n",
            "1/1 [==============================] - 0s 484ms/step\n",
            "1/1 [==============================] - 0s 486ms/step\n",
            "1/1 [==============================] - 0s 475ms/step\n",
            "1/1 [==============================] - 0s 484ms/step\n",
            "1/1 [==============================] - 0s 469ms/step\n",
            "1/1 [==============================] - 0s 474ms/step\n",
            "1/1 [==============================] - 0s 463ms/step\n",
            "1/1 [==============================] - 1s 636ms/step\n",
            "1/1 [==============================] - 1s 829ms/step\n",
            "1/1 [==============================] - 1s 797ms/step\n",
            "1/1 [==============================] - 1s 796ms/step\n",
            "1/1 [==============================] - 1s 618ms/step\n",
            "1/1 [==============================] - 0s 473ms/step\n",
            "1/1 [==============================] - 0s 471ms/step\n",
            "1/1 [==============================] - 0s 477ms/step\n",
            "1/1 [==============================] - 0s 482ms/step\n",
            "1/1 [==============================] - 0s 476ms/step\n",
            "1/1 [==============================] - 0s 471ms/step\n",
            "1/1 [==============================] - 0s 463ms/step\n",
            "1/1 [==============================] - 0s 475ms/step\n",
            "1/1 [==============================] - 0s 479ms/step\n",
            "1/1 [==============================] - 0s 483ms/step\n",
            "1/1 [==============================] - 0s 465ms/step\n",
            "1/1 [==============================] - 1s 527ms/step\n",
            "1/1 [==============================] - 1s 813ms/step\n",
            "1/1 [==============================] - 1s 805ms/step\n",
            "1/1 [==============================] - 1s 839ms/step\n",
            "1/1 [==============================] - 1s 760ms/step\n",
            "1/1 [==============================] - 0s 463ms/step\n",
            "1/1 [==============================] - 0s 463ms/step\n",
            "1/1 [==============================] - 0s 462ms/step\n",
            "1/1 [==============================] - 0s 478ms/step\n",
            "1/1 [==============================] - 0s 489ms/step\n",
            "1/1 [==============================] - 0s 480ms/step\n",
            "1/1 [==============================] - 0s 463ms/step\n",
            "1/1 [==============================] - 0s 463ms/step\n",
            "1/1 [==============================] - 0s 466ms/step\n",
            "1/1 [==============================] - 0s 459ms/step\n",
            "1/1 [==============================] - 0s 477ms/step\n",
            "1/1 [==============================] - 1s 529ms/step\n",
            "1/1 [==============================] - 1s 836ms/step\n",
            "1/1 [==============================] - 1s 844ms/step\n",
            "1/1 [==============================] - 1s 772ms/step\n",
            "1/1 [==============================] - 1s 531ms/step\n",
            "1/1 [==============================] - 0s 480ms/step\n",
            "1/1 [==============================] - 0s 497ms/step\n",
            "1/1 [==============================] - 0s 476ms/step\n",
            "1/1 [==============================] - 0s 467ms/step\n",
            "1/1 [==============================] - 0s 464ms/step\n",
            "1/1 [==============================] - 0s 482ms/step\n",
            "1/1 [==============================] - 0s 480ms/step\n",
            "1/1 [==============================] - 0s 468ms/step\n",
            "1/1 [==============================] - 0s 468ms/step\n",
            "1/1 [==============================] - 0s 478ms/step\n",
            "1/1 [==============================] - 0s 482ms/step\n",
            "1/1 [==============================] - 0s 466ms/step\n",
            "1/1 [==============================] - 1s 843ms/step\n",
            "1/1 [==============================] - 1s 795ms/step\n",
            "1/1 [==============================] - 1s 861ms/step\n",
            "1/1 [==============================] - 1s 750ms/step\n",
            "1/1 [==============================] - 0s 481ms/step\n",
            "1/1 [==============================] - 0s 484ms/step\n",
            "1/1 [==============================] - 0s 468ms/step\n",
            "1/1 [==============================] - 0s 464ms/step\n",
            "1/1 [==============================] - 0s 465ms/step\n",
            "1/1 [==============================] - 0s 480ms/step\n",
            "1/1 [==============================] - 0s 482ms/step\n",
            "1/1 [==============================] - 0s 475ms/step\n",
            "1/1 [==============================] - 0s 463ms/step\n",
            "1/1 [==============================] - 0s 472ms/step\n",
            "1/1 [==============================] - 0s 465ms/step\n",
            "1/1 [==============================] - 1s 778ms/step\n",
            "1/1 [==============================] - 1s 841ms/step\n",
            "1/1 [==============================] - 1s 852ms/step\n",
            "1/1 [==============================] - 1s 810ms/step\n",
            "1/1 [==============================] - 0s 479ms/step\n",
            "1/1 [==============================] - 0s 467ms/step\n",
            "1/1 [==============================] - 0s 465ms/step\n",
            "1/1 [==============================] - 0s 488ms/step\n",
            "1/1 [==============================] - 0s 490ms/step\n",
            "1/1 [==============================] - 0s 473ms/step\n",
            "1/1 [==============================] - 0s 478ms/step\n",
            "1/1 [==============================] - 0s 480ms/step\n",
            "1/1 [==============================] - 0s 464ms/step\n",
            "1/1 [==============================] - 0s 472ms/step\n",
            "1/1 [==============================] - 0s 469ms/step\n"
          ]
        }
      ]
    },
    {
      "cell_type": "markdown",
      "source": [
        "https://stackoverflow.com/questions/47555829/preprocess-input-method-in-keras"
      ],
      "metadata": {
        "id": "tty8XPCmoOXa"
      }
    },
    {
      "cell_type": "markdown",
      "source": [
        "Vérification qu'on a bien toutes les images qui ont été traitées."
      ],
      "metadata": {
        "id": "aMMfpOk86fVF"
      }
    },
    {
      "cell_type": "code",
      "source": [
        "print(np.shape(array_features))\n",
        "\n",
        "if np.shape(array_features)[0] == n:\n",
        "  print(\"Ok\")\n",
        "else:\n",
        "  print(\"Le nombre d'images n'est pas le bon.\")"
      ],
      "metadata": {
        "colab": {
          "base_uri": "https://localhost:8080/"
        },
        "id": "lLfa8PPzxCpn",
        "outputId": "963e2aed-a083-4609-f084-0c9aca8b7f11"
      },
      "execution_count": 16,
      "outputs": [
        {
          "output_type": "stream",
          "name": "stdout",
          "text": [
            "(88, 1, 7, 7, 512)\n",
            "Ok\n"
          ]
        }
      ]
    },
    {
      "cell_type": "markdown",
      "source": [
        "Marice sparse ou pas ?"
      ],
      "metadata": {
        "id": "usENCZpK4pwx"
      }
    },
    {
      "cell_type": "code",
      "source": [
        "tmp = array_features[0]\n",
        "print(np.count_nonzero(tmp))\n",
        "print(np.unique(tmp, return_counts=True))"
      ],
      "metadata": {
        "colab": {
          "base_uri": "https://localhost:8080/"
        },
        "id": "EoaLo9kt36_8",
        "outputId": "bb0bc0c7-1d78-42e3-888d-3d9c37d8fe58"
      },
      "execution_count": 18,
      "outputs": [
        {
          "output_type": "stream",
          "name": "stdout",
          "text": [
            "2092\n",
            "(array([0.0000000e+00, 9.5178410e-03, 1.6311496e-02, ..., 1.6911426e+02,\n",
            "       1.7268654e+02, 1.7467073e+02], dtype=float32), array([22996,     1,     1, ...,     1,     1,     1]))\n"
          ]
        }
      ]
    },
    {
      "cell_type": "markdown",
      "source": [
        "On remarque qu'il y a 10 fois plus de valeurs à 0 que pas à 0."
      ],
      "metadata": {
        "id": "2zrJIOhT4sd2"
      }
    },
    {
      "cell_type": "markdown",
      "source": [
        "Une fois les features extraites, on peut récupérer les labels connus pour pouvoir ensuite les attribuer à leurs features."
      ],
      "metadata": {
        "id": "aIwyNXqm50_b"
      }
    },
    {
      "cell_type": "markdown",
      "source": [
        "## Centrer les données"
      ],
      "metadata": {
        "id": "h9AiExjebUUO"
      }
    },
    {
      "cell_type": "markdown",
      "source": [
        " For VGG16, call keras.applications.vgg16.preprocess_input on your inputs before passing them to the model. vgg16.preprocess_input will convert the input images from RGB to BGR, then will zero-center each color channel with respect to the ImageNet dataset, without scaling."
      ],
      "metadata": {
        "id": "L26UzyDnf-xo"
      }
    },
    {
      "cell_type": "markdown",
      "source": [
        "## Partitionner les données"
      ],
      "metadata": {
        "id": "mY3_3RVBrJiP"
      }
    },
    {
      "cell_type": "markdown",
      "source": [
        "Comme on a extrait les caractéristiques, on peut maintenant entrainé les modèles de régressions linéaires dessus."
      ],
      "metadata": {
        "id": "-RkKZByPedra"
      }
    },
    {
      "cell_type": "code",
      "source": [
        "from sklearn.model_selection import train_test_split\n",
        "X_train, X_test, y_train, y_test = train_test_split(array_features_final, array_files_labels, test_size=0.3, random_state=2020)"
      ],
      "metadata": {
        "id": "NLCsOzzg5F8G"
      },
      "execution_count": 26,
      "outputs": []
    },
    {
      "cell_type": "markdown",
      "source": [
        "## Modèles de régression linéaire"
      ],
      "metadata": {
        "id": "mUCracZGfevf"
      }
    },
    {
      "cell_type": "markdown",
      "source": [
        "### Moindre carrés"
      ],
      "metadata": {
        "id": "iYweseEKekHG"
      }
    },
    {
      "cell_type": "markdown",
      "source": [
        "Linéaire simple"
      ],
      "metadata": {
        "id": "Xmx6Ari6fhLc"
      }
    },
    {
      "cell_type": "code",
      "source": [
        "from sklearn.linear_model import LinearRegression\n",
        "from sklearn.metrics import mean_squared_error\n",
        "linear_regression = LinearRegression()\n",
        "linear_regression.fit(X_train,y_train)"
      ],
      "metadata": {
        "colab": {
          "base_uri": "https://localhost:8080/",
          "height": 74
        },
        "id": "RY2QXVeCpJWW",
        "outputId": "d6f76eef-b52c-449b-b2af-ffa7d0ce296f"
      },
      "execution_count": 31,
      "outputs": [
        {
          "output_type": "execute_result",
          "data": {
            "text/plain": [
              "LinearRegression()"
            ],
            "text/html": [
              "<style>#sk-container-id-2 {color: black;background-color: white;}#sk-container-id-2 pre{padding: 0;}#sk-container-id-2 div.sk-toggleable {background-color: white;}#sk-container-id-2 label.sk-toggleable__label {cursor: pointer;display: block;width: 100%;margin-bottom: 0;padding: 0.3em;box-sizing: border-box;text-align: center;}#sk-container-id-2 label.sk-toggleable__label-arrow:before {content: \"▸\";float: left;margin-right: 0.25em;color: #696969;}#sk-container-id-2 label.sk-toggleable__label-arrow:hover:before {color: black;}#sk-container-id-2 div.sk-estimator:hover label.sk-toggleable__label-arrow:before {color: black;}#sk-container-id-2 div.sk-toggleable__content {max-height: 0;max-width: 0;overflow: hidden;text-align: left;background-color: #f0f8ff;}#sk-container-id-2 div.sk-toggleable__content pre {margin: 0.2em;color: black;border-radius: 0.25em;background-color: #f0f8ff;}#sk-container-id-2 input.sk-toggleable__control:checked~div.sk-toggleable__content {max-height: 200px;max-width: 100%;overflow: auto;}#sk-container-id-2 input.sk-toggleable__control:checked~label.sk-toggleable__label-arrow:before {content: \"▾\";}#sk-container-id-2 div.sk-estimator input.sk-toggleable__control:checked~label.sk-toggleable__label {background-color: #d4ebff;}#sk-container-id-2 div.sk-label input.sk-toggleable__control:checked~label.sk-toggleable__label {background-color: #d4ebff;}#sk-container-id-2 input.sk-hidden--visually {border: 0;clip: rect(1px 1px 1px 1px);clip: rect(1px, 1px, 1px, 1px);height: 1px;margin: -1px;overflow: hidden;padding: 0;position: absolute;width: 1px;}#sk-container-id-2 div.sk-estimator {font-family: monospace;background-color: #f0f8ff;border: 1px dotted black;border-radius: 0.25em;box-sizing: border-box;margin-bottom: 0.5em;}#sk-container-id-2 div.sk-estimator:hover {background-color: #d4ebff;}#sk-container-id-2 div.sk-parallel-item::after {content: \"\";width: 100%;border-bottom: 1px solid gray;flex-grow: 1;}#sk-container-id-2 div.sk-label:hover label.sk-toggleable__label {background-color: #d4ebff;}#sk-container-id-2 div.sk-serial::before {content: \"\";position: absolute;border-left: 1px solid gray;box-sizing: border-box;top: 0;bottom: 0;left: 50%;z-index: 0;}#sk-container-id-2 div.sk-serial {display: flex;flex-direction: column;align-items: center;background-color: white;padding-right: 0.2em;padding-left: 0.2em;position: relative;}#sk-container-id-2 div.sk-item {position: relative;z-index: 1;}#sk-container-id-2 div.sk-parallel {display: flex;align-items: stretch;justify-content: center;background-color: white;position: relative;}#sk-container-id-2 div.sk-item::before, #sk-container-id-2 div.sk-parallel-item::before {content: \"\";position: absolute;border-left: 1px solid gray;box-sizing: border-box;top: 0;bottom: 0;left: 50%;z-index: -1;}#sk-container-id-2 div.sk-parallel-item {display: flex;flex-direction: column;z-index: 1;position: relative;background-color: white;}#sk-container-id-2 div.sk-parallel-item:first-child::after {align-self: flex-end;width: 50%;}#sk-container-id-2 div.sk-parallel-item:last-child::after {align-self: flex-start;width: 50%;}#sk-container-id-2 div.sk-parallel-item:only-child::after {width: 0;}#sk-container-id-2 div.sk-dashed-wrapped {border: 1px dashed gray;margin: 0 0.4em 0.5em 0.4em;box-sizing: border-box;padding-bottom: 0.4em;background-color: white;}#sk-container-id-2 div.sk-label label {font-family: monospace;font-weight: bold;display: inline-block;line-height: 1.2em;}#sk-container-id-2 div.sk-label-container {text-align: center;}#sk-container-id-2 div.sk-container {/* jupyter's `normalize.less` sets `[hidden] { display: none; }` but bootstrap.min.css set `[hidden] { display: none !important; }` so we also need the `!important` here to be able to override the default hidden behavior on the sphinx rendered scikit-learn.org. See: https://github.com/scikit-learn/scikit-learn/issues/21755 */display: inline-block !important;position: relative;}#sk-container-id-2 div.sk-text-repr-fallback {display: none;}</style><div id=\"sk-container-id-2\" class=\"sk-top-container\"><div class=\"sk-text-repr-fallback\"><pre>LinearRegression()</pre><b>In a Jupyter environment, please rerun this cell to show the HTML representation or trust the notebook. <br />On GitHub, the HTML representation is unable to render, please try loading this page with nbviewer.org.</b></div><div class=\"sk-container\" hidden><div class=\"sk-item\"><div class=\"sk-estimator sk-toggleable\"><input class=\"sk-toggleable__control sk-hidden--visually\" id=\"sk-estimator-id-2\" type=\"checkbox\" checked><label for=\"sk-estimator-id-2\" class=\"sk-toggleable__label sk-toggleable__label-arrow\">LinearRegression</label><div class=\"sk-toggleable__content\"><pre>LinearRegression()</pre></div></div></div></div></div>"
            ]
          },
          "metadata": {},
          "execution_count": 31
        }
      ]
    },
    {
      "cell_type": "code",
      "source": [
        "# Prédictions sur les données de test\n",
        "predictions = linear_regression.predict(X_test)\n",
        "\n",
        "# Calculer l'erreur quadratique moyenne\n",
        "mse = mean_squared_error(y_test, predictions)\n",
        "print(\"Mean Squared Error :\", mse)"
      ],
      "metadata": {
        "colab": {
          "base_uri": "https://localhost:8080/"
        },
        "id": "kNWzFFMIpjrH",
        "outputId": "83278e54-5ed7-40c8-b032-49f377bf8765"
      },
      "execution_count": 32,
      "outputs": [
        {
          "output_type": "stream",
          "name": "stdout",
          "text": [
            "Mean Squared Error : 16911.048102918285\n"
          ]
        }
      ]
    },
    {
      "cell_type": "markdown",
      "source": [
        "### Ridge Regression"
      ],
      "metadata": {
        "id": "Oz2p3oy7emV6"
      }
    },
    {
      "cell_type": "markdown",
      "source": [
        "Linéaire simple"
      ],
      "metadata": {
        "id": "faML9IOJfiaA"
      }
    },
    {
      "cell_type": "code",
      "source": [
        "from sklearn.linear_model import Ridge\n",
        "\n",
        "ridge = Ridge()\n",
        "ridge.fit(X_train,y_train)\n",
        "\n",
        "# Prédictions sur les données de test\n",
        "predictions_ridge = ridge.predict(X_test)\n",
        "\n",
        "# Calculer l'erreur quadratique moyenne\n",
        "mse_ridge = mean_squared_error(y_test, predictions_ridge)\n",
        "print(\"Mean Squared Error :\", mse_ridge)"
      ],
      "metadata": {
        "colab": {
          "base_uri": "https://localhost:8080/"
        },
        "id": "iz0w5i_ErfwC",
        "outputId": "79f1d950-97c2-4c22-ea55-4c729a1b4e88"
      },
      "execution_count": 33,
      "outputs": [
        {
          "output_type": "stream",
          "name": "stdout",
          "text": [
            "Mean Squared Error : 16977.816894983032\n"
          ]
        }
      ]
    },
    {
      "cell_type": "markdown",
      "source": [
        "### Lasso Regression"
      ],
      "metadata": {
        "id": "9rhUbVrLepGZ"
      }
    },
    {
      "cell_type": "markdown",
      "source": [
        "Linéaire simple"
      ],
      "metadata": {
        "id": "v8_z4cmJfjuV"
      }
    },
    {
      "cell_type": "code",
      "source": [
        "from sklearn.linear_model import MultiTaskLasso\n",
        "lambda_lasso = 10e-3\n",
        "multitask_lasso = MultiTaskLasso(alpha=lambda_lasso*n, fit_intercept=False)\n",
        "beta_lasso = multitask_lasso.fit(X_train,y_train).coef_\n",
        "print(np.shape(beta_lasso))\n",
        "print(np.shape(X_train))"
      ],
      "metadata": {
        "id": "iABAm_U1dI1Q",
        "colab": {
          "base_uri": "https://localhost:8080/"
        },
        "outputId": "01816074-1969-4d14-f4bf-8bfc62128e6f"
      },
      "execution_count": 34,
      "outputs": [
        {
          "output_type": "stream",
          "name": "stdout",
          "text": [
            "(2, 25088)\n",
            "(61, 25088)\n"
          ]
        },
        {
          "output_type": "stream",
          "name": "stderr",
          "text": [
            "/usr/local/lib/python3.10/dist-packages/sklearn/linear_model/_coordinate_descent.py:2418: ConvergenceWarning: Objective did not converge. You might want to increase the number of iterations. Duality gap: 25864.255859375, tolerance: 7817.95654296875\n",
            "  ) = cd_fast.enet_coordinate_descent_multi_task(\n"
          ]
        }
      ]
    },
    {
      "cell_type": "code",
      "source": [
        "# Prédictions sur les données de test\n",
        "predictions_lasso = multitask_lasso.predict(X_test)\n",
        "\n",
        "# Calculer l'erreur quadratique moyenne\n",
        "mse_lasso = mean_squared_error(y_test, predictions_lasso)\n",
        "print(\"Mean Squared Error :\", mse_lasso)"
      ],
      "metadata": {
        "colab": {
          "base_uri": "https://localhost:8080/"
        },
        "id": "Enmhqg3h6LzJ",
        "outputId": "82af8dc4-2701-4d20-8729-38c420911409"
      },
      "execution_count": 36,
      "outputs": [
        {
          "output_type": "stream",
          "name": "stdout",
          "text": [
            "Mean Squared Error : 185016.43783221586\n"
          ]
        }
      ]
    },
    {
      "cell_type": "markdown",
      "source": [
        "### Multitask Elastic Net"
      ],
      "metadata": {
        "id": "MLRXSIp76pAR"
      }
    },
    {
      "cell_type": "markdown",
      "source": [
        "C'est Lasso + Ridge pour les pénalités. Régression multiple."
      ],
      "metadata": {
        "id": "JZLmVrE1evGs"
      }
    },
    {
      "cell_type": "code",
      "source": [
        "from sklearn.linear_model import MultiTaskElasticNetCV\n",
        "\n",
        "MTelasticnetCV = MultiTaskElasticNetCV(alphas=[lambda_lasso*n])\n",
        "MTelasticnetCV.fit(X_train,y_train)\n",
        "\n",
        "# Prédictions sur les données de test\n",
        "predictions_MTElasticnetCV = MTelasticnetCV.predict(X_test)\n",
        "\n",
        "# Calculer l'erreur quadratique moyenne\n",
        "mse_MTENCV = mean_squared_error(y_test, predictions_MTElasticnetCV)\n",
        "print(\"Mean Squared Error :\", mse_MTENCV)"
      ],
      "metadata": {
        "colab": {
          "base_uri": "https://localhost:8080/"
        },
        "id": "YbPjocfr6rRB",
        "outputId": "6e2742e9-9359-458b-8d81-5bcc7c1dc3d6"
      },
      "execution_count": 40,
      "outputs": [
        {
          "output_type": "stream",
          "name": "stderr",
          "text": [
            "/usr/local/lib/python3.10/dist-packages/sklearn/linear_model/_coordinate_descent.py:609: ConvergenceWarning: Objective did not converge. You might want to increase the number of iterations. Duality gap: 7910.98486328125, tolerance: 1814.4599609375\n",
            "  model = cd_fast.enet_coordinate_descent_multi_task(\n",
            "/usr/local/lib/python3.10/dist-packages/sklearn/linear_model/_coordinate_descent.py:609: ConvergenceWarning: Objective did not converge. You might want to increase the number of iterations. Duality gap: 7986.6142578125, tolerance: 1863.449951171875\n",
            "  model = cd_fast.enet_coordinate_descent_multi_task(\n",
            "/usr/local/lib/python3.10/dist-packages/sklearn/linear_model/_coordinate_descent.py:609: ConvergenceWarning: Objective did not converge. You might want to increase the number of iterations. Duality gap: 8134.27294921875, tolerance: 1862.1787109375\n",
            "  model = cd_fast.enet_coordinate_descent_multi_task(\n",
            "/usr/local/lib/python3.10/dist-packages/sklearn/linear_model/_coordinate_descent.py:609: ConvergenceWarning: Objective did not converge. You might want to increase the number of iterations. Duality gap: 8447.8369140625, tolerance: 1988.4013671875\n",
            "  model = cd_fast.enet_coordinate_descent_multi_task(\n",
            "/usr/local/lib/python3.10/dist-packages/sklearn/linear_model/_coordinate_descent.py:609: ConvergenceWarning: Objective did not converge. You might want to increase the number of iterations. Duality gap: 8135.9580078125, tolerance: 1853.3544921875\n",
            "  model = cd_fast.enet_coordinate_descent_multi_task(\n"
          ]
        },
        {
          "output_type": "stream",
          "name": "stdout",
          "text": [
            "Mean Squared Error : 85200.2744435561\n"
          ]
        },
        {
          "output_type": "stream",
          "name": "stderr",
          "text": [
            "/usr/local/lib/python3.10/dist-packages/sklearn/linear_model/_coordinate_descent.py:2418: ConvergenceWarning: Objective did not converge. You might want to increase the number of iterations. Duality gap: 10228.0849609375, tolerance: 2353.7734375\n",
            "  ) = cd_fast.enet_coordinate_descent_multi_task(\n"
          ]
        }
      ]
    },
    {
      "cell_type": "markdown",
      "source": [
        "# Etape 3 : Améliorer le modèle avec du cross-validation/GridSearchCV"
      ],
      "metadata": {
        "id": "Od7fwy0UYe0o"
      }
    },
    {
      "cell_type": "markdown",
      "source": [
        "### LassoMultiTaskCV"
      ],
      "metadata": {
        "id": "wTBVdinJ7axZ"
      }
    },
    {
      "cell_type": "markdown",
      "source": [
        "Plusieurs alphas, régression multiple"
      ],
      "metadata": {
        "id": "jVVW4CnzemWp"
      }
    },
    {
      "cell_type": "code",
      "source": [
        "from sklearn.linear_model import MultiTaskLassoCV\n",
        "alphas = np.logspace(-6, 6, 13)\n",
        "MTLassoCV = MultiTaskLassoCV(alphas=alphas,max_iter=3000)\n",
        "MTLassoCV.fit(X_train,y_train)\n",
        "\n",
        "# Prédictions sur les données de test\n",
        "predictions_MTLassoCV = MTLassoCV.predict(X_test)\n",
        "\n",
        "# Calculer l'erreur quadratique moyenne\n",
        "mse_MTLCV = mean_squared_error(y_test, predictions_MTLassoCV)\n",
        "print(\"Mean Squared Error :\", mse_MTLCV)"
      ],
      "metadata": {
        "colab": {
          "base_uri": "https://localhost:8080/"
        },
        "id": "lgiQuNbb7fE4",
        "outputId": "8ae117e1-59ab-4d1b-9fad-636870a88916"
      },
      "execution_count": 53,
      "outputs": [
        {
          "output_type": "stream",
          "name": "stdout",
          "text": [
            "Mean Squared Error : 18156.472349386004\n"
          ]
        }
      ]
    },
    {
      "cell_type": "markdown",
      "source": [
        "Un seul alpha pour voir s'il y a vraiment une différence."
      ],
      "metadata": {
        "id": "G_zhMnOaer2f"
      }
    },
    {
      "cell_type": "code",
      "source": [
        "from sklearn.linear_model import MultiTaskLassoCV\n",
        "MTLassoCV = MultiTaskLassoCV(max_iter=3000)\n",
        "MTLassoCV.fit(X_train,y_train)\n",
        "\n",
        "# Prédictions sur les données de test\n",
        "predictions_MTLassoCV = MTLassoCV.predict(X_test)\n",
        "\n",
        "# Calculer l'erreur quadratique moyenne\n",
        "mse_MTLCV = mean_squared_error(y_test, predictions_MTLassoCV)\n",
        "print(\"Mean Squared Error :\", mse_MTLCV)"
      ],
      "metadata": {
        "colab": {
          "base_uri": "https://localhost:8080/"
        },
        "id": "3LyXNoBTZCyO",
        "outputId": "54cb7126-4876-4a18-d653-f95f4981c142"
      },
      "execution_count": 54,
      "outputs": [
        {
          "output_type": "stream",
          "name": "stdout",
          "text": [
            "Mean Squared Error : 18183.92899783985\n"
          ]
        }
      ]
    },
    {
      "cell_type": "markdown",
      "source": [
        "Légère amélioration avec plusieurs alphas pour la cross validation mais c'est pas fou comme résultat."
      ],
      "metadata": {
        "id": "P-kkBLk2aCI_"
      }
    },
    {
      "cell_type": "markdown",
      "source": [
        "### Linear Regression CV"
      ],
      "metadata": {
        "id": "c6tFbqf-NG0G"
      }
    },
    {
      "cell_type": "markdown",
      "source": [
        "Régression simple"
      ],
      "metadata": {
        "id": "5woMKljjftb0"
      }
    },
    {
      "cell_type": "code",
      "source": [
        "from sklearn.model_selection import cross_val_predict, GridSearchCV\n",
        "from sklearn.pipeline import Pipeline\n",
        "\n",
        "pipe_linear = Pipeline([(\"linear\", LinearRegression())])\n",
        "param_grids = {}\n",
        "search_linear = GridSearchCV(pipe_linear,param_grids,n_jobs=2,cv=20)\n",
        "search_linear.fit(X_train, y_train)\n",
        "predictions_linear = search_linear.predict(X_test)\n",
        "# Calculer l'erreur quadratique moyenne\n",
        "mse_linear_cv = mean_squared_error(y_test, predictions_linear)\n",
        "print(\"Mean Squared Error :\", mse_linear_cv)"
      ],
      "metadata": {
        "colab": {
          "base_uri": "https://localhost:8080/"
        },
        "id": "WZm4mRbsMD36",
        "outputId": "5686a373-6a6c-49ec-fd0a-866b7b5f1f8c"
      },
      "execution_count": 43,
      "outputs": [
        {
          "output_type": "stream",
          "name": "stdout",
          "text": [
            "Mean Squared Error : 16911.048102918285\n"
          ]
        }
      ]
    },
    {
      "cell_type": "markdown",
      "source": [
        "### Ridge Regression CV"
      ],
      "metadata": {
        "id": "NtGl0n6tNIVN"
      }
    },
    {
      "cell_type": "markdown",
      "source": [
        "Régression simple"
      ],
      "metadata": {
        "id": "VlPUqipffvSv"
      }
    },
    {
      "cell_type": "code",
      "source": [
        "from sklearn.linear_model import RidgeCV\n",
        "\n",
        "ridgeCV = RidgeCV(cv=20)\n",
        "ridgeCV.fit(X_train,y_train)\n",
        "\n",
        "# Prédictions sur les données de test\n",
        "predictions_ridgeCV = ridgeCV.predict(X_test)\n",
        "\n",
        "# Calculer l'erreur quadratique moyenne\n",
        "mse_ridgeCV = mean_squared_error(y_test, predictions_ridgeCV)\n",
        "print(\"Mean Squared Error :\", mse_ridgeCV)"
      ],
      "metadata": {
        "colab": {
          "base_uri": "https://localhost:8080/"
        },
        "id": "LON9l8dsNJud",
        "outputId": "f099a06a-8dd9-4e5d-aa6d-02c66b9ca975"
      },
      "execution_count": 47,
      "outputs": [
        {
          "output_type": "stream",
          "name": "stderr",
          "text": [
            "/usr/local/lib/python3.10/dist-packages/sklearn/linear_model/_ridge.py:253: LinAlgWarning: Ill-conditioned matrix (rcond=8.13225e-09): result may not be accurate.\n",
            "  dual_coef = linalg.solve(K, y, assume_a=\"pos\", overwrite_a=False)\n",
            "/usr/local/lib/python3.10/dist-packages/sklearn/linear_model/_ridge.py:255: UserWarning: Singular matrix in solving dual problem. Using least-squares solution instead.\n",
            "  warnings.warn(\n",
            "/usr/local/lib/python3.10/dist-packages/sklearn/linear_model/_ridge.py:255: UserWarning: Singular matrix in solving dual problem. Using least-squares solution instead.\n",
            "  warnings.warn(\n",
            "/usr/local/lib/python3.10/dist-packages/sklearn/linear_model/_ridge.py:255: UserWarning: Singular matrix in solving dual problem. Using least-squares solution instead.\n",
            "  warnings.warn(\n",
            "/usr/local/lib/python3.10/dist-packages/sklearn/linear_model/_ridge.py:255: UserWarning: Singular matrix in solving dual problem. Using least-squares solution instead.\n",
            "  warnings.warn(\n",
            "/usr/local/lib/python3.10/dist-packages/sklearn/linear_model/_ridge.py:255: UserWarning: Singular matrix in solving dual problem. Using least-squares solution instead.\n",
            "  warnings.warn(\n",
            "/usr/local/lib/python3.10/dist-packages/sklearn/linear_model/_ridge.py:255: UserWarning: Singular matrix in solving dual problem. Using least-squares solution instead.\n",
            "  warnings.warn(\n",
            "/usr/local/lib/python3.10/dist-packages/sklearn/linear_model/_ridge.py:255: UserWarning: Singular matrix in solving dual problem. Using least-squares solution instead.\n",
            "  warnings.warn(\n",
            "/usr/local/lib/python3.10/dist-packages/sklearn/linear_model/_ridge.py:255: UserWarning: Singular matrix in solving dual problem. Using least-squares solution instead.\n",
            "  warnings.warn(\n",
            "/usr/local/lib/python3.10/dist-packages/sklearn/linear_model/_ridge.py:255: UserWarning: Singular matrix in solving dual problem. Using least-squares solution instead.\n",
            "  warnings.warn(\n",
            "/usr/local/lib/python3.10/dist-packages/sklearn/linear_model/_ridge.py:255: UserWarning: Singular matrix in solving dual problem. Using least-squares solution instead.\n",
            "  warnings.warn(\n",
            "/usr/local/lib/python3.10/dist-packages/sklearn/linear_model/_ridge.py:255: UserWarning: Singular matrix in solving dual problem. Using least-squares solution instead.\n",
            "  warnings.warn(\n",
            "/usr/local/lib/python3.10/dist-packages/sklearn/linear_model/_ridge.py:255: UserWarning: Singular matrix in solving dual problem. Using least-squares solution instead.\n",
            "  warnings.warn(\n",
            "/usr/local/lib/python3.10/dist-packages/sklearn/linear_model/_ridge.py:255: UserWarning: Singular matrix in solving dual problem. Using least-squares solution instead.\n",
            "  warnings.warn(\n",
            "/usr/local/lib/python3.10/dist-packages/sklearn/linear_model/_ridge.py:255: UserWarning: Singular matrix in solving dual problem. Using least-squares solution instead.\n",
            "  warnings.warn(\n",
            "/usr/local/lib/python3.10/dist-packages/sklearn/linear_model/_ridge.py:255: UserWarning: Singular matrix in solving dual problem. Using least-squares solution instead.\n",
            "  warnings.warn(\n",
            "/usr/local/lib/python3.10/dist-packages/sklearn/linear_model/_ridge.py:255: UserWarning: Singular matrix in solving dual problem. Using least-squares solution instead.\n",
            "  warnings.warn(\n",
            "/usr/local/lib/python3.10/dist-packages/sklearn/linear_model/_ridge.py:255: UserWarning: Singular matrix in solving dual problem. Using least-squares solution instead.\n",
            "  warnings.warn(\n",
            "/usr/local/lib/python3.10/dist-packages/sklearn/linear_model/_ridge.py:255: UserWarning: Singular matrix in solving dual problem. Using least-squares solution instead.\n",
            "  warnings.warn(\n",
            "/usr/local/lib/python3.10/dist-packages/sklearn/linear_model/_ridge.py:255: UserWarning: Singular matrix in solving dual problem. Using least-squares solution instead.\n",
            "  warnings.warn(\n"
          ]
        },
        {
          "output_type": "stream",
          "name": "stdout",
          "text": [
            "Mean Squared Error : 16977.80848088926\n"
          ]
        },
        {
          "output_type": "stream",
          "name": "stderr",
          "text": [
            "/usr/local/lib/python3.10/dist-packages/sklearn/linear_model/_ridge.py:253: LinAlgWarning: Ill-conditioned matrix (rcond=4.16342e-09): result may not be accurate.\n",
            "  dual_coef = linalg.solve(K, y, assume_a=\"pos\", overwrite_a=False)\n"
          ]
        }
      ]
    },
    {
      "cell_type": "markdown",
      "source": [
        "# Etape 4 : Calculer la précision/f-measure pour comparer"
      ],
      "metadata": {
        "id": "m9us_LHPYt72"
      }
    },
    {
      "cell_type": "markdown",
      "source": [
        "Faire un tableau qui compare toutes les mesures du mean square error."
      ],
      "metadata": {
        "id": "UocyZz4JfA40"
      }
    },
    {
      "cell_type": "markdown",
      "source": [
        "# Etape 5 : Comparer"
      ],
      "metadata": {
        "id": "aSSM1RLRYyvF"
      }
    },
    {
      "cell_type": "code",
      "execution_count": null,
      "metadata": {
        "id": "SppSBtr-VhEV"
      },
      "outputs": [],
      "source": []
    },
    {
      "cell_type": "markdown",
      "source": [
        "# Conclusion"
      ],
      "metadata": {
        "id": "a3kMPgqYVTUK"
      }
    },
    {
      "cell_type": "markdown",
      "source": [
        "De ce que j'ai compris, on fait de la régressions multiples car Y a plusieurs dimensions. Entre Lasso et ElasticNet, LassoCV donne de meilleurs résultats sur la mean square error parce que Lasso élimine normalement les variables les moins impoortantes. Or il y a beaucoup de valeurs à 0 qui ne donnent aucune information donc Lasso peut les ignorer."
      ],
      "metadata": {
        "id": "JVCYePsWVUxU"
      }
    }
  ]
}